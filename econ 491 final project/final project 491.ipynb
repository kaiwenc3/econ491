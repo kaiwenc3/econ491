{
 "cells": [
  {
   "cell_type": "code",
   "execution_count": 1,
   "id": "b7db1e32-07a4-413f-927e-0fe0b2812e18",
   "metadata": {},
   "outputs": [],
   "source": [
    "import pandas as pd\n",
    "import seaborn as sns \n",
    "import matplotlib.pyplot as plt\n",
    "from sklearn.model_selection import train_test_split"
   ]
  },
  {
   "cell_type": "code",
   "execution_count": 2,
   "id": "a0a15e79-308d-4f5e-8cee-bcc551529953",
   "metadata": {},
   "outputs": [],
   "source": [
    "df = pd.read_excel('data.xlsx', sheet_name='Sheet1')"
   ]
  },
  {
   "cell_type": "code",
   "execution_count": 3,
   "id": "0756e6c2-99f9-4b05-a4e7-c2c7dfd7088c",
   "metadata": {},
   "outputs": [
    {
     "data": {
      "text/html": [
       "<div>\n",
       "<style scoped>\n",
       "    .dataframe tbody tr th:only-of-type {\n",
       "        vertical-align: middle;\n",
       "    }\n",
       "\n",
       "    .dataframe tbody tr th {\n",
       "        vertical-align: top;\n",
       "    }\n",
       "\n",
       "    .dataframe thead th {\n",
       "        text-align: right;\n",
       "    }\n",
       "</style>\n",
       "<table border=\"1\" class=\"dataframe\">\n",
       "  <thead>\n",
       "    <tr style=\"text-align: right;\">\n",
       "      <th></th>\n",
       "      <th>year</th>\n",
       "      <th>country</th>\n",
       "      <th>iso</th>\n",
       "      <th>ifs</th>\n",
       "      <th>pop</th>\n",
       "      <th>rgdpmad</th>\n",
       "      <th>rgdpbarro</th>\n",
       "      <th>rconsbarro</th>\n",
       "      <th>gdp</th>\n",
       "      <th>iy</th>\n",
       "      <th>...</th>\n",
       "      <th>eq_capgain</th>\n",
       "      <th>eq_dp</th>\n",
       "      <th>eq_capgain_interp</th>\n",
       "      <th>eq_tr_interp</th>\n",
       "      <th>eq_dp_interp</th>\n",
       "      <th>bond_rate</th>\n",
       "      <th>eq_div_rtn</th>\n",
       "      <th>capital_tr</th>\n",
       "      <th>risky_tr</th>\n",
       "      <th>safe_tr</th>\n",
       "    </tr>\n",
       "  </thead>\n",
       "  <tbody>\n",
       "    <tr>\n",
       "      <th>0</th>\n",
       "      <td>1870</td>\n",
       "      <td>Australia</td>\n",
       "      <td>AUS</td>\n",
       "      <td>193</td>\n",
       "      <td>1775.0</td>\n",
       "      <td>3273.239437</td>\n",
       "      <td>13.836157</td>\n",
       "      <td>21.449734</td>\n",
       "      <td>208.78</td>\n",
       "      <td>0.109266</td>\n",
       "      <td>...</td>\n",
       "      <td>-0.070045</td>\n",
       "      <td>0.071417</td>\n",
       "      <td>NaN</td>\n",
       "      <td>NaN</td>\n",
       "      <td>NaN</td>\n",
       "      <td>0.049118</td>\n",
       "      <td>0.066415</td>\n",
       "      <td>NaN</td>\n",
       "      <td>NaN</td>\n",
       "      <td>NaN</td>\n",
       "    </tr>\n",
       "    <tr>\n",
       "      <th>1</th>\n",
       "      <td>1871</td>\n",
       "      <td>Australia</td>\n",
       "      <td>AUS</td>\n",
       "      <td>193</td>\n",
       "      <td>1675.0</td>\n",
       "      <td>3298.507463</td>\n",
       "      <td>13.936864</td>\n",
       "      <td>19.930801</td>\n",
       "      <td>211.56</td>\n",
       "      <td>0.104579</td>\n",
       "      <td>...</td>\n",
       "      <td>0.041654</td>\n",
       "      <td>0.065466</td>\n",
       "      <td>NaN</td>\n",
       "      <td>NaN</td>\n",
       "      <td>NaN</td>\n",
       "      <td>0.048446</td>\n",
       "      <td>0.068193</td>\n",
       "      <td>NaN</td>\n",
       "      <td>NaN</td>\n",
       "      <td>NaN</td>\n",
       "    </tr>\n",
       "    <tr>\n",
       "      <th>2</th>\n",
       "      <td>1872</td>\n",
       "      <td>Australia</td>\n",
       "      <td>AUS</td>\n",
       "      <td>193</td>\n",
       "      <td>1722.0</td>\n",
       "      <td>3553.426249</td>\n",
       "      <td>15.044247</td>\n",
       "      <td>21.085006</td>\n",
       "      <td>227.40</td>\n",
       "      <td>0.130438</td>\n",
       "      <td>...</td>\n",
       "      <td>0.108945</td>\n",
       "      <td>0.062997</td>\n",
       "      <td>NaN</td>\n",
       "      <td>NaN</td>\n",
       "      <td>NaN</td>\n",
       "      <td>0.047373</td>\n",
       "      <td>0.069861</td>\n",
       "      <td>NaN</td>\n",
       "      <td>NaN</td>\n",
       "      <td>NaN</td>\n",
       "    </tr>\n",
       "    <tr>\n",
       "      <th>3</th>\n",
       "      <td>1873</td>\n",
       "      <td>Australia</td>\n",
       "      <td>AUS</td>\n",
       "      <td>193</td>\n",
       "      <td>1769.0</td>\n",
       "      <td>3823.629169</td>\n",
       "      <td>16.219443</td>\n",
       "      <td>23.254910</td>\n",
       "      <td>266.54</td>\n",
       "      <td>0.124986</td>\n",
       "      <td>...</td>\n",
       "      <td>0.083086</td>\n",
       "      <td>0.064484</td>\n",
       "      <td>NaN</td>\n",
       "      <td>NaN</td>\n",
       "      <td>NaN</td>\n",
       "      <td>0.046720</td>\n",
       "      <td>0.069842</td>\n",
       "      <td>NaN</td>\n",
       "      <td>NaN</td>\n",
       "      <td>NaN</td>\n",
       "    </tr>\n",
       "    <tr>\n",
       "      <th>4</th>\n",
       "      <td>1874</td>\n",
       "      <td>Australia</td>\n",
       "      <td>AUS</td>\n",
       "      <td>193</td>\n",
       "      <td>1822.0</td>\n",
       "      <td>3834.796926</td>\n",
       "      <td>16.268228</td>\n",
       "      <td>23.458050</td>\n",
       "      <td>287.58</td>\n",
       "      <td>0.141960</td>\n",
       "      <td>...</td>\n",
       "      <td>0.119389</td>\n",
       "      <td>0.063503</td>\n",
       "      <td>NaN</td>\n",
       "      <td>NaN</td>\n",
       "      <td>NaN</td>\n",
       "      <td>0.046533</td>\n",
       "      <td>0.071085</td>\n",
       "      <td>NaN</td>\n",
       "      <td>NaN</td>\n",
       "      <td>NaN</td>\n",
       "    </tr>\n",
       "  </tbody>\n",
       "</table>\n",
       "<p>5 rows × 59 columns</p>\n",
       "</div>"
      ],
      "text/plain": [
       "   year    country  iso  ifs     pop      rgdpmad  rgdpbarro  rconsbarro  \\\n",
       "0  1870  Australia  AUS  193  1775.0  3273.239437  13.836157   21.449734   \n",
       "1  1871  Australia  AUS  193  1675.0  3298.507463  13.936864   19.930801   \n",
       "2  1872  Australia  AUS  193  1722.0  3553.426249  15.044247   21.085006   \n",
       "3  1873  Australia  AUS  193  1769.0  3823.629169  16.219443   23.254910   \n",
       "4  1874  Australia  AUS  193  1822.0  3834.796926  16.268228   23.458050   \n",
       "\n",
       "      gdp        iy  ...  eq_capgain     eq_dp  eq_capgain_interp  \\\n",
       "0  208.78  0.109266  ...   -0.070045  0.071417                NaN   \n",
       "1  211.56  0.104579  ...    0.041654  0.065466                NaN   \n",
       "2  227.40  0.130438  ...    0.108945  0.062997                NaN   \n",
       "3  266.54  0.124986  ...    0.083086  0.064484                NaN   \n",
       "4  287.58  0.141960  ...    0.119389  0.063503                NaN   \n",
       "\n",
       "   eq_tr_interp  eq_dp_interp  bond_rate  eq_div_rtn  capital_tr  risky_tr  \\\n",
       "0           NaN           NaN   0.049118    0.066415         NaN       NaN   \n",
       "1           NaN           NaN   0.048446    0.068193         NaN       NaN   \n",
       "2           NaN           NaN   0.047373    0.069861         NaN       NaN   \n",
       "3           NaN           NaN   0.046720    0.069842         NaN       NaN   \n",
       "4           NaN           NaN   0.046533    0.071085         NaN       NaN   \n",
       "\n",
       "   safe_tr  \n",
       "0      NaN  \n",
       "1      NaN  \n",
       "2      NaN  \n",
       "3      NaN  \n",
       "4      NaN  \n",
       "\n",
       "[5 rows x 59 columns]"
      ]
     },
     "execution_count": 3,
     "metadata": {},
     "output_type": "execute_result"
    }
   ],
   "source": [
    "df.head()"
   ]
  },
  {
   "cell_type": "code",
   "execution_count": 4,
   "id": "e099c1bd-bbc3-4b11-9a26-0623cc7b4dae",
   "metadata": {},
   "outputs": [
    {
     "data": {
      "text/plain": [
       "2718"
      ]
     },
     "execution_count": 4,
     "metadata": {},
     "output_type": "execute_result"
    }
   ],
   "source": [
    "df.shape[0]"
   ]
  },
  {
   "cell_type": "code",
   "execution_count": 5,
   "id": "5c3f210a-eaee-440e-904a-0706b1d36063",
   "metadata": {},
   "outputs": [
    {
     "data": {
      "text/plain": [
       "year                          int64\n",
       "country                      object\n",
       "iso                          object\n",
       "ifs                           int64\n",
       "pop                         float64\n",
       "rgdpmad                     float64\n",
       "rgdpbarro                   float64\n",
       "rconsbarro                  float64\n",
       "gdp                         float64\n",
       "iy                          float64\n",
       "cpi                         float64\n",
       "ca                          float64\n",
       "imports                     float64\n",
       "exports                     float64\n",
       "narrowm                     float64\n",
       "money                       float64\n",
       "stir                        float64\n",
       "ltrate                      float64\n",
       "hpnom                       float64\n",
       "unemp                       float64\n",
       "wage                        float64\n",
       "debtgdp                     float64\n",
       "revenue                     float64\n",
       "expenditure                 float64\n",
       "xrusd                       float64\n",
       "tloans                      float64\n",
       "tmort                       float64\n",
       "thh                         float64\n",
       "tbus                        float64\n",
       "bdebt                       float64\n",
       "lev                         float64\n",
       "ltd                         float64\n",
       "noncore                     float64\n",
       "crisisJST                   float64\n",
       "crisisJST_old               float64\n",
       "peg                         float64\n",
       "peg_strict                  float64\n",
       "peg_type                     object\n",
       "peg_base                     object\n",
       "JSTtrilemmaIV               float64\n",
       "eq_tr                       float64\n",
       "housing_tr                  float64\n",
       "bond_tr                     float64\n",
       "bill_rate                   float64\n",
       "rent_ipolated               float64\n",
       "housing_capgain_ipolated    float64\n",
       "housing_capgain             float64\n",
       "housing_rent_rtn            float64\n",
       "housing_rent_yd             float64\n",
       "eq_capgain                  float64\n",
       "eq_dp                       float64\n",
       "eq_capgain_interp           float64\n",
       "eq_tr_interp                float64\n",
       "eq_dp_interp                float64\n",
       "bond_rate                   float64\n",
       "eq_div_rtn                  float64\n",
       "capital_tr                  float64\n",
       "risky_tr                    float64\n",
       "safe_tr                     float64\n",
       "dtype: object"
      ]
     },
     "execution_count": 5,
     "metadata": {},
     "output_type": "execute_result"
    }
   ],
   "source": [
    "df.dtypes"
   ]
  },
  {
   "cell_type": "code",
   "execution_count": 6,
   "id": "435e4f4a-72a5-4dc4-a286-c060d81b9fc8",
   "metadata": {},
   "outputs": [
    {
     "name": "stderr",
     "output_type": "stream",
     "text": [
      "C:\\Users\\59747\\AppData\\Local\\Temp\\ipykernel_36468\\3974986566.py:2: FutureWarning: The default fill_method='ffill' in SeriesGroupBy.pct_change is deprecated and will be removed in a future version. Either fill in any non-leading NA values prior to calling pct_change or specify 'fill_method=None' to not fill NA values.\n",
      "  df['gdp_growth'] = df.groupby('country')['gdp'].pct_change() * 100\n"
     ]
    },
    {
     "data": {
      "text/html": [
       "<div>\n",
       "<style scoped>\n",
       "    .dataframe tbody tr th:only-of-type {\n",
       "        vertical-align: middle;\n",
       "    }\n",
       "\n",
       "    .dataframe tbody tr th {\n",
       "        vertical-align: top;\n",
       "    }\n",
       "\n",
       "    .dataframe thead th {\n",
       "        text-align: right;\n",
       "    }\n",
       "</style>\n",
       "<table border=\"1\" class=\"dataframe\">\n",
       "  <thead>\n",
       "    <tr style=\"text-align: right;\">\n",
       "      <th></th>\n",
       "      <th>country</th>\n",
       "      <th>year</th>\n",
       "      <th>gdp</th>\n",
       "      <th>gdp_growth</th>\n",
       "    </tr>\n",
       "  </thead>\n",
       "  <tbody>\n",
       "    <tr>\n",
       "      <th>0</th>\n",
       "      <td>Australia</td>\n",
       "      <td>1870</td>\n",
       "      <td>208.78</td>\n",
       "      <td>NaN</td>\n",
       "    </tr>\n",
       "    <tr>\n",
       "      <th>1</th>\n",
       "      <td>Australia</td>\n",
       "      <td>1871</td>\n",
       "      <td>211.56</td>\n",
       "      <td>1.331545</td>\n",
       "    </tr>\n",
       "    <tr>\n",
       "      <th>2</th>\n",
       "      <td>Australia</td>\n",
       "      <td>1872</td>\n",
       "      <td>227.40</td>\n",
       "      <td>7.487238</td>\n",
       "    </tr>\n",
       "    <tr>\n",
       "      <th>3</th>\n",
       "      <td>Australia</td>\n",
       "      <td>1873</td>\n",
       "      <td>266.54</td>\n",
       "      <td>17.211961</td>\n",
       "    </tr>\n",
       "    <tr>\n",
       "      <th>4</th>\n",
       "      <td>Australia</td>\n",
       "      <td>1874</td>\n",
       "      <td>287.58</td>\n",
       "      <td>7.893750</td>\n",
       "    </tr>\n",
       "  </tbody>\n",
       "</table>\n",
       "</div>"
      ],
      "text/plain": [
       "     country  year     gdp  gdp_growth\n",
       "0  Australia  1870  208.78         NaN\n",
       "1  Australia  1871  211.56    1.331545\n",
       "2  Australia  1872  227.40    7.487238\n",
       "3  Australia  1873  266.54   17.211961\n",
       "4  Australia  1874  287.58    7.893750"
      ]
     },
     "execution_count": 6,
     "metadata": {},
     "output_type": "execute_result"
    }
   ],
   "source": [
    "df = df.sort_values(by=['country', 'year'])\n",
    "df['gdp_growth'] = df.groupby('country')['gdp'].pct_change() * 100\n",
    "df[['country', 'year', 'gdp', 'gdp_growth']].head()"
   ]
  },
  {
   "cell_type": "code",
   "execution_count": 7,
   "id": "56c4d047-0cb5-45b0-89ba-24fd133fd577",
   "metadata": {},
   "outputs": [
    {
     "data": {
      "text/html": [
       "<div>\n",
       "<style scoped>\n",
       "    .dataframe tbody tr th:only-of-type {\n",
       "        vertical-align: middle;\n",
       "    }\n",
       "\n",
       "    .dataframe tbody tr th {\n",
       "        vertical-align: top;\n",
       "    }\n",
       "\n",
       "    .dataframe thead th {\n",
       "        text-align: right;\n",
       "    }\n",
       "</style>\n",
       "<table border=\"1\" class=\"dataframe\">\n",
       "  <thead>\n",
       "    <tr style=\"text-align: right;\">\n",
       "      <th></th>\n",
       "      <th>pop</th>\n",
       "      <th>rgdpmad</th>\n",
       "      <th>rgdpbarro</th>\n",
       "      <th>rconsbarro</th>\n",
       "      <th>gdp</th>\n",
       "      <th>iy</th>\n",
       "      <th>cpi</th>\n",
       "      <th>ca</th>\n",
       "      <th>imports</th>\n",
       "      <th>exports</th>\n",
       "      <th>...</th>\n",
       "      <th>eq_dp</th>\n",
       "      <th>eq_capgain_interp</th>\n",
       "      <th>eq_tr_interp</th>\n",
       "      <th>eq_dp_interp</th>\n",
       "      <th>bond_rate</th>\n",
       "      <th>eq_div_rtn</th>\n",
       "      <th>capital_tr</th>\n",
       "      <th>risky_tr</th>\n",
       "      <th>safe_tr</th>\n",
       "      <th>gdp_growth</th>\n",
       "    </tr>\n",
       "  </thead>\n",
       "  <tbody>\n",
       "    <tr>\n",
       "      <th>0</th>\n",
       "      <td>1775.0</td>\n",
       "      <td>3273.239437</td>\n",
       "      <td>13.836157</td>\n",
       "      <td>21.449734</td>\n",
       "      <td>208.78</td>\n",
       "      <td>0.109266</td>\n",
       "      <td>2.708333</td>\n",
       "      <td>-6.147594</td>\n",
       "      <td>36.0</td>\n",
       "      <td>37.0</td>\n",
       "      <td>...</td>\n",
       "      <td>0.071417</td>\n",
       "      <td>NaN</td>\n",
       "      <td>NaN</td>\n",
       "      <td>NaN</td>\n",
       "      <td>0.049118</td>\n",
       "      <td>0.066415</td>\n",
       "      <td>NaN</td>\n",
       "      <td>NaN</td>\n",
       "      <td>NaN</td>\n",
       "      <td>NaN</td>\n",
       "    </tr>\n",
       "    <tr>\n",
       "      <th>1</th>\n",
       "      <td>1675.0</td>\n",
       "      <td>3298.507463</td>\n",
       "      <td>13.936864</td>\n",
       "      <td>19.930801</td>\n",
       "      <td>211.56</td>\n",
       "      <td>0.104579</td>\n",
       "      <td>2.666667</td>\n",
       "      <td>5.260774</td>\n",
       "      <td>34.0</td>\n",
       "      <td>46.0</td>\n",
       "      <td>...</td>\n",
       "      <td>0.065466</td>\n",
       "      <td>NaN</td>\n",
       "      <td>NaN</td>\n",
       "      <td>NaN</td>\n",
       "      <td>0.048446</td>\n",
       "      <td>0.068193</td>\n",
       "      <td>NaN</td>\n",
       "      <td>NaN</td>\n",
       "      <td>NaN</td>\n",
       "      <td>1.331545</td>\n",
       "    </tr>\n",
       "    <tr>\n",
       "      <th>2</th>\n",
       "      <td>1722.0</td>\n",
       "      <td>3553.426249</td>\n",
       "      <td>15.044247</td>\n",
       "      <td>21.085006</td>\n",
       "      <td>227.40</td>\n",
       "      <td>0.130438</td>\n",
       "      <td>2.541667</td>\n",
       "      <td>7.867636</td>\n",
       "      <td>38.0</td>\n",
       "      <td>53.0</td>\n",
       "      <td>...</td>\n",
       "      <td>0.062997</td>\n",
       "      <td>NaN</td>\n",
       "      <td>NaN</td>\n",
       "      <td>NaN</td>\n",
       "      <td>0.047373</td>\n",
       "      <td>0.069861</td>\n",
       "      <td>NaN</td>\n",
       "      <td>NaN</td>\n",
       "      <td>NaN</td>\n",
       "      <td>7.487238</td>\n",
       "    </tr>\n",
       "    <tr>\n",
       "      <th>3</th>\n",
       "      <td>1769.0</td>\n",
       "      <td>3823.629169</td>\n",
       "      <td>16.219443</td>\n",
       "      <td>23.254910</td>\n",
       "      <td>266.54</td>\n",
       "      <td>0.124986</td>\n",
       "      <td>2.541667</td>\n",
       "      <td>-11.047833</td>\n",
       "      <td>49.0</td>\n",
       "      <td>50.0</td>\n",
       "      <td>...</td>\n",
       "      <td>0.064484</td>\n",
       "      <td>NaN</td>\n",
       "      <td>NaN</td>\n",
       "      <td>NaN</td>\n",
       "      <td>0.046720</td>\n",
       "      <td>0.069842</td>\n",
       "      <td>NaN</td>\n",
       "      <td>NaN</td>\n",
       "      <td>NaN</td>\n",
       "      <td>17.211961</td>\n",
       "    </tr>\n",
       "    <tr>\n",
       "      <th>4</th>\n",
       "      <td>1822.0</td>\n",
       "      <td>3834.796926</td>\n",
       "      <td>16.268228</td>\n",
       "      <td>23.458050</td>\n",
       "      <td>287.58</td>\n",
       "      <td>0.141960</td>\n",
       "      <td>2.666667</td>\n",
       "      <td>-5.563959</td>\n",
       "      <td>49.0</td>\n",
       "      <td>54.0</td>\n",
       "      <td>...</td>\n",
       "      <td>0.063503</td>\n",
       "      <td>NaN</td>\n",
       "      <td>NaN</td>\n",
       "      <td>NaN</td>\n",
       "      <td>0.046533</td>\n",
       "      <td>0.071085</td>\n",
       "      <td>NaN</td>\n",
       "      <td>NaN</td>\n",
       "      <td>NaN</td>\n",
       "      <td>7.893750</td>\n",
       "    </tr>\n",
       "  </tbody>\n",
       "</table>\n",
       "<p>5 rows × 54 columns</p>\n",
       "</div>"
      ],
      "text/plain": [
       "      pop      rgdpmad  rgdpbarro  rconsbarro     gdp        iy       cpi  \\\n",
       "0  1775.0  3273.239437  13.836157   21.449734  208.78  0.109266  2.708333   \n",
       "1  1675.0  3298.507463  13.936864   19.930801  211.56  0.104579  2.666667   \n",
       "2  1722.0  3553.426249  15.044247   21.085006  227.40  0.130438  2.541667   \n",
       "3  1769.0  3823.629169  16.219443   23.254910  266.54  0.124986  2.541667   \n",
       "4  1822.0  3834.796926  16.268228   23.458050  287.58  0.141960  2.666667   \n",
       "\n",
       "          ca  imports  exports  ...     eq_dp  eq_capgain_interp  \\\n",
       "0  -6.147594     36.0     37.0  ...  0.071417                NaN   \n",
       "1   5.260774     34.0     46.0  ...  0.065466                NaN   \n",
       "2   7.867636     38.0     53.0  ...  0.062997                NaN   \n",
       "3 -11.047833     49.0     50.0  ...  0.064484                NaN   \n",
       "4  -5.563959     49.0     54.0  ...  0.063503                NaN   \n",
       "\n",
       "   eq_tr_interp  eq_dp_interp  bond_rate  eq_div_rtn  capital_tr  risky_tr  \\\n",
       "0           NaN           NaN   0.049118    0.066415         NaN       NaN   \n",
       "1           NaN           NaN   0.048446    0.068193         NaN       NaN   \n",
       "2           NaN           NaN   0.047373    0.069861         NaN       NaN   \n",
       "3           NaN           NaN   0.046720    0.069842         NaN       NaN   \n",
       "4           NaN           NaN   0.046533    0.071085         NaN       NaN   \n",
       "\n",
       "   safe_tr  gdp_growth  \n",
       "0      NaN         NaN  \n",
       "1      NaN    1.331545  \n",
       "2      NaN    7.487238  \n",
       "3      NaN   17.211961  \n",
       "4      NaN    7.893750  \n",
       "\n",
       "[5 rows x 54 columns]"
      ]
     },
     "execution_count": 7,
     "metadata": {},
     "output_type": "execute_result"
    }
   ],
   "source": [
    "df1 = df.drop(['year', 'country', 'iso', 'ifs','rent_ipolated', 'housing_capgain_ipolated'], axis = 1)\n",
    "df1.head()"
   ]
  },
  {
   "cell_type": "code",
   "execution_count": 8,
   "id": "f0463ad2-8960-4530-b3de-9d50fedc615f",
   "metadata": {},
   "outputs": [
    {
     "data": {
      "text/html": [
       "<div>\n",
       "<style scoped>\n",
       "    .dataframe tbody tr th:only-of-type {\n",
       "        vertical-align: middle;\n",
       "    }\n",
       "\n",
       "    .dataframe tbody tr th {\n",
       "        vertical-align: top;\n",
       "    }\n",
       "\n",
       "    .dataframe thead th {\n",
       "        text-align: right;\n",
       "    }\n",
       "</style>\n",
       "<table border=\"1\" class=\"dataframe\">\n",
       "  <thead>\n",
       "    <tr style=\"text-align: right;\">\n",
       "      <th></th>\n",
       "      <th>pop</th>\n",
       "      <th>rgdpmad</th>\n",
       "      <th>rgdpbarro</th>\n",
       "      <th>rconsbarro</th>\n",
       "      <th>gdp</th>\n",
       "      <th>iy</th>\n",
       "      <th>cpi</th>\n",
       "      <th>ca</th>\n",
       "      <th>imports</th>\n",
       "      <th>exports</th>\n",
       "      <th>...</th>\n",
       "      <th>eq_dp</th>\n",
       "      <th>eq_capgain_interp</th>\n",
       "      <th>eq_tr_interp</th>\n",
       "      <th>eq_dp_interp</th>\n",
       "      <th>bond_rate</th>\n",
       "      <th>eq_div_rtn</th>\n",
       "      <th>capital_tr</th>\n",
       "      <th>risky_tr</th>\n",
       "      <th>safe_tr</th>\n",
       "      <th>gdp_growth</th>\n",
       "    </tr>\n",
       "  </thead>\n",
       "  <tbody>\n",
       "    <tr>\n",
       "      <th>0</th>\n",
       "      <td>1775.000000</td>\n",
       "      <td>3273.239437</td>\n",
       "      <td>13.836157</td>\n",
       "      <td>21.449734</td>\n",
       "      <td>208.78</td>\n",
       "      <td>0.109266</td>\n",
       "      <td>2.708333</td>\n",
       "      <td>-6.147594</td>\n",
       "      <td>36.0000</td>\n",
       "      <td>37.0000</td>\n",
       "      <td>...</td>\n",
       "      <td>0.071417</td>\n",
       "      <td>0.0</td>\n",
       "      <td>0.0</td>\n",
       "      <td>0.0</td>\n",
       "      <td>0.049118</td>\n",
       "      <td>0.066415</td>\n",
       "      <td>0.000000</td>\n",
       "      <td>0.000000</td>\n",
       "      <td>0.000000</td>\n",
       "      <td>0.000000</td>\n",
       "    </tr>\n",
       "    <tr>\n",
       "      <th>1</th>\n",
       "      <td>1675.000000</td>\n",
       "      <td>3298.507463</td>\n",
       "      <td>13.936864</td>\n",
       "      <td>19.930801</td>\n",
       "      <td>211.56</td>\n",
       "      <td>0.104579</td>\n",
       "      <td>2.666667</td>\n",
       "      <td>5.260774</td>\n",
       "      <td>34.0000</td>\n",
       "      <td>46.0000</td>\n",
       "      <td>...</td>\n",
       "      <td>0.065466</td>\n",
       "      <td>0.0</td>\n",
       "      <td>0.0</td>\n",
       "      <td>0.0</td>\n",
       "      <td>0.048446</td>\n",
       "      <td>0.068193</td>\n",
       "      <td>0.000000</td>\n",
       "      <td>0.000000</td>\n",
       "      <td>0.000000</td>\n",
       "      <td>1.331545</td>\n",
       "    </tr>\n",
       "    <tr>\n",
       "      <th>2</th>\n",
       "      <td>1722.000000</td>\n",
       "      <td>3553.426249</td>\n",
       "      <td>15.044247</td>\n",
       "      <td>21.085006</td>\n",
       "      <td>227.40</td>\n",
       "      <td>0.130438</td>\n",
       "      <td>2.541667</td>\n",
       "      <td>7.867636</td>\n",
       "      <td>38.0000</td>\n",
       "      <td>53.0000</td>\n",
       "      <td>...</td>\n",
       "      <td>0.062997</td>\n",
       "      <td>0.0</td>\n",
       "      <td>0.0</td>\n",
       "      <td>0.0</td>\n",
       "      <td>0.047373</td>\n",
       "      <td>0.069861</td>\n",
       "      <td>0.000000</td>\n",
       "      <td>0.000000</td>\n",
       "      <td>0.000000</td>\n",
       "      <td>7.487238</td>\n",
       "    </tr>\n",
       "    <tr>\n",
       "      <th>3</th>\n",
       "      <td>1769.000000</td>\n",
       "      <td>3823.629169</td>\n",
       "      <td>16.219443</td>\n",
       "      <td>23.254910</td>\n",
       "      <td>266.54</td>\n",
       "      <td>0.124986</td>\n",
       "      <td>2.541667</td>\n",
       "      <td>-11.047833</td>\n",
       "      <td>49.0000</td>\n",
       "      <td>50.0000</td>\n",
       "      <td>...</td>\n",
       "      <td>0.064484</td>\n",
       "      <td>0.0</td>\n",
       "      <td>0.0</td>\n",
       "      <td>0.0</td>\n",
       "      <td>0.046720</td>\n",
       "      <td>0.069842</td>\n",
       "      <td>0.000000</td>\n",
       "      <td>0.000000</td>\n",
       "      <td>0.000000</td>\n",
       "      <td>17.211961</td>\n",
       "    </tr>\n",
       "    <tr>\n",
       "      <th>4</th>\n",
       "      <td>1822.000000</td>\n",
       "      <td>3834.796926</td>\n",
       "      <td>16.268228</td>\n",
       "      <td>23.458050</td>\n",
       "      <td>287.58</td>\n",
       "      <td>0.141960</td>\n",
       "      <td>2.666667</td>\n",
       "      <td>-5.563959</td>\n",
       "      <td>49.0000</td>\n",
       "      <td>54.0000</td>\n",
       "      <td>...</td>\n",
       "      <td>0.063503</td>\n",
       "      <td>0.0</td>\n",
       "      <td>0.0</td>\n",
       "      <td>0.0</td>\n",
       "      <td>0.046533</td>\n",
       "      <td>0.071085</td>\n",
       "      <td>0.000000</td>\n",
       "      <td>0.000000</td>\n",
       "      <td>0.000000</td>\n",
       "      <td>7.893750</td>\n",
       "    </tr>\n",
       "    <tr>\n",
       "      <th>...</th>\n",
       "      <td>...</td>\n",
       "      <td>...</td>\n",
       "      <td>...</td>\n",
       "      <td>...</td>\n",
       "      <td>...</td>\n",
       "      <td>...</td>\n",
       "      <td>...</td>\n",
       "      <td>...</td>\n",
       "      <td>...</td>\n",
       "      <td>...</td>\n",
       "      <td>...</td>\n",
       "      <td>...</td>\n",
       "      <td>...</td>\n",
       "      <td>...</td>\n",
       "      <td>...</td>\n",
       "      <td>...</td>\n",
       "      <td>...</td>\n",
       "      <td>...</td>\n",
       "      <td>...</td>\n",
       "      <td>...</td>\n",
       "      <td>...</td>\n",
       "    </tr>\n",
       "    <tr>\n",
       "      <th>2713</th>\n",
       "      <td>322701.246359</td>\n",
       "      <td>33012.767871</td>\n",
       "      <td>108.756035</td>\n",
       "      <td>108.051774</td>\n",
       "      <td>18695.10</td>\n",
       "      <td>0.195831</td>\n",
       "      <td>178.575038</td>\n",
       "      <td>-397.573000</td>\n",
       "      <td>2738.3593</td>\n",
       "      <td>2232.1095</td>\n",
       "      <td>...</td>\n",
       "      <td>0.021309</td>\n",
       "      <td>0.0</td>\n",
       "      <td>0.0</td>\n",
       "      <td>0.0</td>\n",
       "      <td>0.018417</td>\n",
       "      <td>0.021626</td>\n",
       "      <td>0.048536</td>\n",
       "      <td>0.067177</td>\n",
       "      <td>0.003139</td>\n",
       "      <td>2.686477</td>\n",
       "    </tr>\n",
       "    <tr>\n",
       "      <th>2714</th>\n",
       "      <td>324756.935396</td>\n",
       "      <td>33543.679862</td>\n",
       "      <td>110.591099</td>\n",
       "      <td>109.978043</td>\n",
       "      <td>19479.60</td>\n",
       "      <td>0.204547</td>\n",
       "      <td>182.415361</td>\n",
       "      <td>-361.702000</td>\n",
       "      <td>2923.6905</td>\n",
       "      <td>2383.7583</td>\n",
       "      <td>...</td>\n",
       "      <td>0.019363</td>\n",
       "      <td>0.0</td>\n",
       "      <td>0.0</td>\n",
       "      <td>0.0</td>\n",
       "      <td>0.023300</td>\n",
       "      <td>0.022662</td>\n",
       "      <td>0.121381</td>\n",
       "      <td>0.160881</td>\n",
       "      <td>0.017584</td>\n",
       "      <td>4.196287</td>\n",
       "    </tr>\n",
       "    <tr>\n",
       "      <th>2715</th>\n",
       "      <td>326497.132575</td>\n",
       "      <td>34338.770756</td>\n",
       "      <td>113.306861</td>\n",
       "      <td>112.567306</td>\n",
       "      <td>20527.20</td>\n",
       "      <td>0.208586</td>\n",
       "      <td>186.862052</td>\n",
       "      <td>-438.241000</td>\n",
       "      <td>3129.6970</td>\n",
       "      <td>2533.5115</td>\n",
       "      <td>...</td>\n",
       "      <td>0.018716</td>\n",
       "      <td>0.0</td>\n",
       "      <td>0.0</td>\n",
       "      <td>0.0</td>\n",
       "      <td>0.029100</td>\n",
       "      <td>0.020982</td>\n",
       "      <td>0.092210</td>\n",
       "      <td>0.129585</td>\n",
       "      <td>0.000581</td>\n",
       "      <td>5.377934</td>\n",
       "    </tr>\n",
       "    <tr>\n",
       "      <th>2716</th>\n",
       "      <td>328018.681916</td>\n",
       "      <td>34961.835051</td>\n",
       "      <td>115.229692</td>\n",
       "      <td>114.509455</td>\n",
       "      <td>21372.60</td>\n",
       "      <td>0.210205</td>\n",
       "      <td>190.247600</td>\n",
       "      <td>-472.145000</td>\n",
       "      <td>3115.9903</td>\n",
       "      <td>2519.7270</td>\n",
       "      <td>...</td>\n",
       "      <td>0.019312</td>\n",
       "      <td>0.0</td>\n",
       "      <td>0.0</td>\n",
       "      <td>0.0</td>\n",
       "      <td>0.021442</td>\n",
       "      <td>0.020492</td>\n",
       "      <td>0.080606</td>\n",
       "      <td>0.084776</td>\n",
       "      <td>0.070134</td>\n",
       "      <td>4.118438</td>\n",
       "    </tr>\n",
       "    <tr>\n",
       "      <th>2717</th>\n",
       "      <td>329239.715278</td>\n",
       "      <td>33646.261755</td>\n",
       "      <td>110.823049</td>\n",
       "      <td>109.793166</td>\n",
       "      <td>20893.70</td>\n",
       "      <td>0.214368</td>\n",
       "      <td>192.622537</td>\n",
       "      <td>-616.087000</td>\n",
       "      <td>2774.5970</td>\n",
       "      <td>2123.4105</td>\n",
       "      <td>...</td>\n",
       "      <td>0.018361</td>\n",
       "      <td>0.0</td>\n",
       "      <td>0.0</td>\n",
       "      <td>0.0</td>\n",
       "      <td>0.008942</td>\n",
       "      <td>0.020290</td>\n",
       "      <td>0.106476</td>\n",
       "      <td>0.124902</td>\n",
       "      <td>0.061228</td>\n",
       "      <td>-2.240719</td>\n",
       "    </tr>\n",
       "  </tbody>\n",
       "</table>\n",
       "<p>2718 rows × 54 columns</p>\n",
       "</div>"
      ],
      "text/plain": [
       "                pop       rgdpmad   rgdpbarro  rconsbarro       gdp        iy  \\\n",
       "0       1775.000000   3273.239437   13.836157   21.449734    208.78  0.109266   \n",
       "1       1675.000000   3298.507463   13.936864   19.930801    211.56  0.104579   \n",
       "2       1722.000000   3553.426249   15.044247   21.085006    227.40  0.130438   \n",
       "3       1769.000000   3823.629169   16.219443   23.254910    266.54  0.124986   \n",
       "4       1822.000000   3834.796926   16.268228   23.458050    287.58  0.141960   \n",
       "...             ...           ...         ...         ...       ...       ...   \n",
       "2713  322701.246359  33012.767871  108.756035  108.051774  18695.10  0.195831   \n",
       "2714  324756.935396  33543.679862  110.591099  109.978043  19479.60  0.204547   \n",
       "2715  326497.132575  34338.770756  113.306861  112.567306  20527.20  0.208586   \n",
       "2716  328018.681916  34961.835051  115.229692  114.509455  21372.60  0.210205   \n",
       "2717  329239.715278  33646.261755  110.823049  109.793166  20893.70  0.214368   \n",
       "\n",
       "             cpi          ca    imports    exports  ...     eq_dp  \\\n",
       "0       2.708333   -6.147594    36.0000    37.0000  ...  0.071417   \n",
       "1       2.666667    5.260774    34.0000    46.0000  ...  0.065466   \n",
       "2       2.541667    7.867636    38.0000    53.0000  ...  0.062997   \n",
       "3       2.541667  -11.047833    49.0000    50.0000  ...  0.064484   \n",
       "4       2.666667   -5.563959    49.0000    54.0000  ...  0.063503   \n",
       "...          ...         ...        ...        ...  ...       ...   \n",
       "2713  178.575038 -397.573000  2738.3593  2232.1095  ...  0.021309   \n",
       "2714  182.415361 -361.702000  2923.6905  2383.7583  ...  0.019363   \n",
       "2715  186.862052 -438.241000  3129.6970  2533.5115  ...  0.018716   \n",
       "2716  190.247600 -472.145000  3115.9903  2519.7270  ...  0.019312   \n",
       "2717  192.622537 -616.087000  2774.5970  2123.4105  ...  0.018361   \n",
       "\n",
       "      eq_capgain_interp  eq_tr_interp  eq_dp_interp  bond_rate  eq_div_rtn  \\\n",
       "0                   0.0           0.0           0.0   0.049118    0.066415   \n",
       "1                   0.0           0.0           0.0   0.048446    0.068193   \n",
       "2                   0.0           0.0           0.0   0.047373    0.069861   \n",
       "3                   0.0           0.0           0.0   0.046720    0.069842   \n",
       "4                   0.0           0.0           0.0   0.046533    0.071085   \n",
       "...                 ...           ...           ...        ...         ...   \n",
       "2713                0.0           0.0           0.0   0.018417    0.021626   \n",
       "2714                0.0           0.0           0.0   0.023300    0.022662   \n",
       "2715                0.0           0.0           0.0   0.029100    0.020982   \n",
       "2716                0.0           0.0           0.0   0.021442    0.020492   \n",
       "2717                0.0           0.0           0.0   0.008942    0.020290   \n",
       "\n",
       "      capital_tr  risky_tr   safe_tr  gdp_growth  \n",
       "0       0.000000  0.000000  0.000000    0.000000  \n",
       "1       0.000000  0.000000  0.000000    1.331545  \n",
       "2       0.000000  0.000000  0.000000    7.487238  \n",
       "3       0.000000  0.000000  0.000000   17.211961  \n",
       "4       0.000000  0.000000  0.000000    7.893750  \n",
       "...          ...       ...       ...         ...  \n",
       "2713    0.048536  0.067177  0.003139    2.686477  \n",
       "2714    0.121381  0.160881  0.017584    4.196287  \n",
       "2715    0.092210  0.129585  0.000581    5.377934  \n",
       "2716    0.080606  0.084776  0.070134    4.118438  \n",
       "2717    0.106476  0.124902  0.061228   -2.240719  \n",
       "\n",
       "[2718 rows x 54 columns]"
      ]
     },
     "execution_count": 8,
     "metadata": {},
     "output_type": "execute_result"
    }
   ],
   "source": [
    "df_clean = df1.fillna(0)\n",
    "df_clean"
   ]
  },
  {
   "cell_type": "markdown",
   "id": "9ce16622-764f-48f7-940b-1524e48962a0",
   "metadata": {},
   "source": [
    "# Data preliminary analysis\n",
    "we gonna check the relationship between each variables here"
   ]
  },
  {
   "cell_type": "code",
   "execution_count": 9,
   "id": "6784f3a0-974f-4738-9ce7-591c6283b6a8",
   "metadata": {},
   "outputs": [
    {
     "data": {
      "text/html": [
       "<div>\n",
       "<style scoped>\n",
       "    .dataframe tbody tr th:only-of-type {\n",
       "        vertical-align: middle;\n",
       "    }\n",
       "\n",
       "    .dataframe tbody tr th {\n",
       "        vertical-align: top;\n",
       "    }\n",
       "\n",
       "    .dataframe thead th {\n",
       "        text-align: right;\n",
       "    }\n",
       "</style>\n",
       "<table border=\"1\" class=\"dataframe\">\n",
       "  <thead>\n",
       "    <tr style=\"text-align: right;\">\n",
       "      <th></th>\n",
       "      <th>pop</th>\n",
       "      <th>rgdpmad</th>\n",
       "      <th>rgdpbarro</th>\n",
       "      <th>rconsbarro</th>\n",
       "      <th>gdp</th>\n",
       "      <th>iy</th>\n",
       "      <th>cpi</th>\n",
       "      <th>ca</th>\n",
       "      <th>imports</th>\n",
       "      <th>exports</th>\n",
       "      <th>...</th>\n",
       "      <th>eq_dp</th>\n",
       "      <th>eq_capgain_interp</th>\n",
       "      <th>eq_tr_interp</th>\n",
       "      <th>eq_dp_interp</th>\n",
       "      <th>bond_rate</th>\n",
       "      <th>eq_div_rtn</th>\n",
       "      <th>capital_tr</th>\n",
       "      <th>risky_tr</th>\n",
       "      <th>safe_tr</th>\n",
       "      <th>gdp_growth</th>\n",
       "    </tr>\n",
       "  </thead>\n",
       "  <tbody>\n",
       "    <tr>\n",
       "      <th>0</th>\n",
       "      <td>-0.636795</td>\n",
       "      <td>3273.239437</td>\n",
       "      <td>13.836157</td>\n",
       "      <td>21.449734</td>\n",
       "      <td>-0.149749</td>\n",
       "      <td>-0.700106</td>\n",
       "      <td>-0.678057</td>\n",
       "      <td>-6.147594</td>\n",
       "      <td>-0.160111</td>\n",
       "      <td>-0.156411</td>\n",
       "      <td>...</td>\n",
       "      <td>1.725863</td>\n",
       "      <td>0.0</td>\n",
       "      <td>0.0</td>\n",
       "      <td>0.0</td>\n",
       "      <td>0.043844</td>\n",
       "      <td>0.066415</td>\n",
       "      <td>0.000000</td>\n",
       "      <td>0.000000</td>\n",
       "      <td>0.000000</td>\n",
       "      <td>0.000000</td>\n",
       "    </tr>\n",
       "    <tr>\n",
       "      <th>1</th>\n",
       "      <td>-0.638985</td>\n",
       "      <td>3298.507463</td>\n",
       "      <td>13.936864</td>\n",
       "      <td>19.930801</td>\n",
       "      <td>-0.149748</td>\n",
       "      <td>-0.755515</td>\n",
       "      <td>-0.678793</td>\n",
       "      <td>5.260774</td>\n",
       "      <td>-0.160111</td>\n",
       "      <td>-0.156409</td>\n",
       "      <td>...</td>\n",
       "      <td>1.460757</td>\n",
       "      <td>0.0</td>\n",
       "      <td>0.0</td>\n",
       "      <td>0.0</td>\n",
       "      <td>0.024339</td>\n",
       "      <td>0.068193</td>\n",
       "      <td>0.000000</td>\n",
       "      <td>0.000000</td>\n",
       "      <td>0.000000</td>\n",
       "      <td>1.331545</td>\n",
       "    </tr>\n",
       "    <tr>\n",
       "      <th>2</th>\n",
       "      <td>-0.637955</td>\n",
       "      <td>3553.426249</td>\n",
       "      <td>15.044247</td>\n",
       "      <td>21.085006</td>\n",
       "      <td>-0.149747</td>\n",
       "      <td>-0.449786</td>\n",
       "      <td>-0.681000</td>\n",
       "      <td>7.867636</td>\n",
       "      <td>-0.160110</td>\n",
       "      <td>-0.156407</td>\n",
       "      <td>...</td>\n",
       "      <td>1.350760</td>\n",
       "      <td>0.0</td>\n",
       "      <td>0.0</td>\n",
       "      <td>0.0</td>\n",
       "      <td>-0.006807</td>\n",
       "      <td>0.069861</td>\n",
       "      <td>0.000000</td>\n",
       "      <td>0.000000</td>\n",
       "      <td>0.000000</td>\n",
       "      <td>7.487238</td>\n",
       "    </tr>\n",
       "    <tr>\n",
       "      <th>3</th>\n",
       "      <td>-0.636926</td>\n",
       "      <td>3823.629169</td>\n",
       "      <td>16.219443</td>\n",
       "      <td>23.254910</td>\n",
       "      <td>-0.149745</td>\n",
       "      <td>-0.514242</td>\n",
       "      <td>-0.681000</td>\n",
       "      <td>-11.047833</td>\n",
       "      <td>-0.160108</td>\n",
       "      <td>-0.156408</td>\n",
       "      <td>...</td>\n",
       "      <td>1.417000</td>\n",
       "      <td>0.0</td>\n",
       "      <td>0.0</td>\n",
       "      <td>0.0</td>\n",
       "      <td>-0.025792</td>\n",
       "      <td>0.069842</td>\n",
       "      <td>0.000000</td>\n",
       "      <td>0.000000</td>\n",
       "      <td>0.000000</td>\n",
       "      <td>17.211961</td>\n",
       "    </tr>\n",
       "    <tr>\n",
       "      <th>4</th>\n",
       "      <td>-0.635765</td>\n",
       "      <td>3834.796926</td>\n",
       "      <td>16.268228</td>\n",
       "      <td>23.458050</td>\n",
       "      <td>-0.149744</td>\n",
       "      <td>-0.313563</td>\n",
       "      <td>-0.678793</td>\n",
       "      <td>-5.563959</td>\n",
       "      <td>-0.160108</td>\n",
       "      <td>-0.156407</td>\n",
       "      <td>...</td>\n",
       "      <td>1.373285</td>\n",
       "      <td>0.0</td>\n",
       "      <td>0.0</td>\n",
       "      <td>0.0</td>\n",
       "      <td>-0.031203</td>\n",
       "      <td>0.071085</td>\n",
       "      <td>0.000000</td>\n",
       "      <td>0.000000</td>\n",
       "      <td>0.000000</td>\n",
       "      <td>7.893750</td>\n",
       "    </tr>\n",
       "    <tr>\n",
       "      <th>...</th>\n",
       "      <td>...</td>\n",
       "      <td>...</td>\n",
       "      <td>...</td>\n",
       "      <td>...</td>\n",
       "      <td>...</td>\n",
       "      <td>...</td>\n",
       "      <td>...</td>\n",
       "      <td>...</td>\n",
       "      <td>...</td>\n",
       "      <td>...</td>\n",
       "      <td>...</td>\n",
       "      <td>...</td>\n",
       "      <td>...</td>\n",
       "      <td>...</td>\n",
       "      <td>...</td>\n",
       "      <td>...</td>\n",
       "      <td>...</td>\n",
       "      <td>...</td>\n",
       "      <td>...</td>\n",
       "      <td>...</td>\n",
       "      <td>...</td>\n",
       "    </tr>\n",
       "    <tr>\n",
       "      <th>2713</th>\n",
       "      <td>6.392192</td>\n",
       "      <td>33012.767871</td>\n",
       "      <td>108.756035</td>\n",
       "      <td>108.051774</td>\n",
       "      <td>-0.148588</td>\n",
       "      <td>0.323351</td>\n",
       "      <td>2.427269</td>\n",
       "      <td>-397.573000</td>\n",
       "      <td>-0.159553</td>\n",
       "      <td>-0.155958</td>\n",
       "      <td>...</td>\n",
       "      <td>-0.506491</td>\n",
       "      <td>0.0</td>\n",
       "      <td>0.0</td>\n",
       "      <td>0.0</td>\n",
       "      <td>-0.847467</td>\n",
       "      <td>0.021626</td>\n",
       "      <td>0.048536</td>\n",
       "      <td>0.067177</td>\n",
       "      <td>0.003139</td>\n",
       "      <td>2.686477</td>\n",
       "    </tr>\n",
       "    <tr>\n",
       "      <th>2714</th>\n",
       "      <td>6.437216</td>\n",
       "      <td>33543.679862</td>\n",
       "      <td>110.591099</td>\n",
       "      <td>109.978043</td>\n",
       "      <td>-0.148539</td>\n",
       "      <td>0.426398</td>\n",
       "      <td>2.495078</td>\n",
       "      <td>-361.702000</td>\n",
       "      <td>-0.159515</td>\n",
       "      <td>-0.155927</td>\n",
       "      <td>...</td>\n",
       "      <td>-0.593167</td>\n",
       "      <td>0.0</td>\n",
       "      <td>0.0</td>\n",
       "      <td>0.0</td>\n",
       "      <td>-0.705705</td>\n",
       "      <td>0.022662</td>\n",
       "      <td>0.121381</td>\n",
       "      <td>0.160881</td>\n",
       "      <td>0.017584</td>\n",
       "      <td>4.196287</td>\n",
       "    </tr>\n",
       "    <tr>\n",
       "      <th>2715</th>\n",
       "      <td>6.475330</td>\n",
       "      <td>34338.770756</td>\n",
       "      <td>113.306861</td>\n",
       "      <td>112.567306</td>\n",
       "      <td>-0.148473</td>\n",
       "      <td>0.474157</td>\n",
       "      <td>2.573595</td>\n",
       "      <td>-438.241000</td>\n",
       "      <td>-0.159472</td>\n",
       "      <td>-0.155896</td>\n",
       "      <td>...</td>\n",
       "      <td>-0.622027</td>\n",
       "      <td>0.0</td>\n",
       "      <td>0.0</td>\n",
       "      <td>0.0</td>\n",
       "      <td>-0.537320</td>\n",
       "      <td>0.020982</td>\n",
       "      <td>0.092210</td>\n",
       "      <td>0.129585</td>\n",
       "      <td>0.000581</td>\n",
       "      <td>5.377934</td>\n",
       "    </tr>\n",
       "    <tr>\n",
       "      <th>2716</th>\n",
       "      <td>6.508655</td>\n",
       "      <td>34961.835051</td>\n",
       "      <td>115.229692</td>\n",
       "      <td>114.509455</td>\n",
       "      <td>-0.148420</td>\n",
       "      <td>0.493299</td>\n",
       "      <td>2.633374</td>\n",
       "      <td>-472.145000</td>\n",
       "      <td>-0.159475</td>\n",
       "      <td>-0.155899</td>\n",
       "      <td>...</td>\n",
       "      <td>-0.595473</td>\n",
       "      <td>0.0</td>\n",
       "      <td>0.0</td>\n",
       "      <td>0.0</td>\n",
       "      <td>-0.759646</td>\n",
       "      <td>0.020492</td>\n",
       "      <td>0.080606</td>\n",
       "      <td>0.084776</td>\n",
       "      <td>0.070134</td>\n",
       "      <td>4.118438</td>\n",
       "    </tr>\n",
       "    <tr>\n",
       "      <th>2717</th>\n",
       "      <td>6.535398</td>\n",
       "      <td>33646.261755</td>\n",
       "      <td>110.823049</td>\n",
       "      <td>109.793166</td>\n",
       "      <td>-0.148450</td>\n",
       "      <td>0.542512</td>\n",
       "      <td>2.675309</td>\n",
       "      <td>-616.087000</td>\n",
       "      <td>-0.159545</td>\n",
       "      <td>-0.155981</td>\n",
       "      <td>...</td>\n",
       "      <td>-0.637836</td>\n",
       "      <td>0.0</td>\n",
       "      <td>0.0</td>\n",
       "      <td>0.0</td>\n",
       "      <td>-1.122544</td>\n",
       "      <td>0.020290</td>\n",
       "      <td>0.106476</td>\n",
       "      <td>0.124902</td>\n",
       "      <td>0.061228</td>\n",
       "      <td>-2.240719</td>\n",
       "    </tr>\n",
       "  </tbody>\n",
       "</table>\n",
       "<p>2718 rows × 54 columns</p>\n",
       "</div>"
      ],
      "text/plain": [
       "           pop       rgdpmad   rgdpbarro  rconsbarro       gdp        iy  \\\n",
       "0    -0.636795   3273.239437   13.836157   21.449734 -0.149749 -0.700106   \n",
       "1    -0.638985   3298.507463   13.936864   19.930801 -0.149748 -0.755515   \n",
       "2    -0.637955   3553.426249   15.044247   21.085006 -0.149747 -0.449786   \n",
       "3    -0.636926   3823.629169   16.219443   23.254910 -0.149745 -0.514242   \n",
       "4    -0.635765   3834.796926   16.268228   23.458050 -0.149744 -0.313563   \n",
       "...        ...           ...         ...         ...       ...       ...   \n",
       "2713  6.392192  33012.767871  108.756035  108.051774 -0.148588  0.323351   \n",
       "2714  6.437216  33543.679862  110.591099  109.978043 -0.148539  0.426398   \n",
       "2715  6.475330  34338.770756  113.306861  112.567306 -0.148473  0.474157   \n",
       "2716  6.508655  34961.835051  115.229692  114.509455 -0.148420  0.493299   \n",
       "2717  6.535398  33646.261755  110.823049  109.793166 -0.148450  0.542512   \n",
       "\n",
       "           cpi          ca   imports   exports  ...     eq_dp  \\\n",
       "0    -0.678057   -6.147594 -0.160111 -0.156411  ...  1.725863   \n",
       "1    -0.678793    5.260774 -0.160111 -0.156409  ...  1.460757   \n",
       "2    -0.681000    7.867636 -0.160110 -0.156407  ...  1.350760   \n",
       "3    -0.681000  -11.047833 -0.160108 -0.156408  ...  1.417000   \n",
       "4    -0.678793   -5.563959 -0.160108 -0.156407  ...  1.373285   \n",
       "...        ...         ...       ...       ...  ...       ...   \n",
       "2713  2.427269 -397.573000 -0.159553 -0.155958  ... -0.506491   \n",
       "2714  2.495078 -361.702000 -0.159515 -0.155927  ... -0.593167   \n",
       "2715  2.573595 -438.241000 -0.159472 -0.155896  ... -0.622027   \n",
       "2716  2.633374 -472.145000 -0.159475 -0.155899  ... -0.595473   \n",
       "2717  2.675309 -616.087000 -0.159545 -0.155981  ... -0.637836   \n",
       "\n",
       "      eq_capgain_interp  eq_tr_interp  eq_dp_interp  bond_rate  eq_div_rtn  \\\n",
       "0                   0.0           0.0           0.0   0.043844    0.066415   \n",
       "1                   0.0           0.0           0.0   0.024339    0.068193   \n",
       "2                   0.0           0.0           0.0  -0.006807    0.069861   \n",
       "3                   0.0           0.0           0.0  -0.025792    0.069842   \n",
       "4                   0.0           0.0           0.0  -0.031203    0.071085   \n",
       "...                 ...           ...           ...        ...         ...   \n",
       "2713                0.0           0.0           0.0  -0.847467    0.021626   \n",
       "2714                0.0           0.0           0.0  -0.705705    0.022662   \n",
       "2715                0.0           0.0           0.0  -0.537320    0.020982   \n",
       "2716                0.0           0.0           0.0  -0.759646    0.020492   \n",
       "2717                0.0           0.0           0.0  -1.122544    0.020290   \n",
       "\n",
       "      capital_tr  risky_tr   safe_tr  gdp_growth  \n",
       "0       0.000000  0.000000  0.000000    0.000000  \n",
       "1       0.000000  0.000000  0.000000    1.331545  \n",
       "2       0.000000  0.000000  0.000000    7.487238  \n",
       "3       0.000000  0.000000  0.000000   17.211961  \n",
       "4       0.000000  0.000000  0.000000    7.893750  \n",
       "...          ...       ...       ...         ...  \n",
       "2713    0.048536  0.067177  0.003139    2.686477  \n",
       "2714    0.121381  0.160881  0.017584    4.196287  \n",
       "2715    0.092210  0.129585  0.000581    5.377934  \n",
       "2716    0.080606  0.084776  0.070134    4.118438  \n",
       "2717    0.106476  0.124902  0.061228   -2.240719  \n",
       "\n",
       "[2718 rows x 54 columns]"
      ]
     },
     "execution_count": 9,
     "metadata": {},
     "output_type": "execute_result"
    }
   ],
   "source": [
    "from sklearn.preprocessing import StandardScaler\n",
    "scaler = StandardScaler()\n",
    "scaled_expl_vars = scaler.fit_transform(df_clean[['gdp', 'iy', 'cpi', 'bond_rate', 'pop', 'unemp', 'imports', 'exports','eq_dp']])\n",
    "df_clean[['gdp', 'iy', 'cpi', 'bond_rate', 'pop', 'unemp', 'imports', 'exports','eq_dp']] = scaled_expl_vars\n",
    "df_clean"
   ]
  },
  {
   "cell_type": "code",
   "execution_count": 10,
   "id": "e720566c-1651-445f-8dfd-414cd379d535",
   "metadata": {},
   "outputs": [
    {
     "data": {
      "text/html": [
       "<div>\n",
       "<style scoped>\n",
       "    .dataframe tbody tr th:only-of-type {\n",
       "        vertical-align: middle;\n",
       "    }\n",
       "\n",
       "    .dataframe tbody tr th {\n",
       "        vertical-align: top;\n",
       "    }\n",
       "\n",
       "    .dataframe thead th {\n",
       "        text-align: right;\n",
       "    }\n",
       "</style>\n",
       "<table border=\"1\" class=\"dataframe\">\n",
       "  <thead>\n",
       "    <tr style=\"text-align: right;\">\n",
       "      <th></th>\n",
       "      <th>gdp</th>\n",
       "      <th>iy</th>\n",
       "      <th>cpi</th>\n",
       "      <th>bond_rate</th>\n",
       "      <th>pop</th>\n",
       "      <th>unemp</th>\n",
       "      <th>imports</th>\n",
       "      <th>exports</th>\n",
       "      <th>eq_dp</th>\n",
       "    </tr>\n",
       "  </thead>\n",
       "  <tbody>\n",
       "    <tr>\n",
       "      <th>0</th>\n",
       "      <td>-0.149749</td>\n",
       "      <td>-0.700106</td>\n",
       "      <td>-0.678057</td>\n",
       "      <td>0.043844</td>\n",
       "      <td>-0.636795</td>\n",
       "      <td>-0.925916</td>\n",
       "      <td>-0.160111</td>\n",
       "      <td>-0.156411</td>\n",
       "      <td>1.725863</td>\n",
       "    </tr>\n",
       "    <tr>\n",
       "      <th>1</th>\n",
       "      <td>-0.149748</td>\n",
       "      <td>-0.755515</td>\n",
       "      <td>-0.678793</td>\n",
       "      <td>0.024339</td>\n",
       "      <td>-0.638985</td>\n",
       "      <td>-0.925916</td>\n",
       "      <td>-0.160111</td>\n",
       "      <td>-0.156409</td>\n",
       "      <td>1.460757</td>\n",
       "    </tr>\n",
       "    <tr>\n",
       "      <th>2</th>\n",
       "      <td>-0.149747</td>\n",
       "      <td>-0.449786</td>\n",
       "      <td>-0.681000</td>\n",
       "      <td>-0.006807</td>\n",
       "      <td>-0.637955</td>\n",
       "      <td>-0.925916</td>\n",
       "      <td>-0.160110</td>\n",
       "      <td>-0.156407</td>\n",
       "      <td>1.350760</td>\n",
       "    </tr>\n",
       "    <tr>\n",
       "      <th>3</th>\n",
       "      <td>-0.149745</td>\n",
       "      <td>-0.514242</td>\n",
       "      <td>-0.681000</td>\n",
       "      <td>-0.025792</td>\n",
       "      <td>-0.636926</td>\n",
       "      <td>-0.925916</td>\n",
       "      <td>-0.160108</td>\n",
       "      <td>-0.156408</td>\n",
       "      <td>1.417000</td>\n",
       "    </tr>\n",
       "    <tr>\n",
       "      <th>4</th>\n",
       "      <td>-0.149744</td>\n",
       "      <td>-0.313563</td>\n",
       "      <td>-0.678793</td>\n",
       "      <td>-0.031203</td>\n",
       "      <td>-0.635765</td>\n",
       "      <td>-0.925916</td>\n",
       "      <td>-0.160108</td>\n",
       "      <td>-0.156407</td>\n",
       "      <td>1.373285</td>\n",
       "    </tr>\n",
       "    <tr>\n",
       "      <th>...</th>\n",
       "      <td>...</td>\n",
       "      <td>...</td>\n",
       "      <td>...</td>\n",
       "      <td>...</td>\n",
       "      <td>...</td>\n",
       "      <td>...</td>\n",
       "      <td>...</td>\n",
       "      <td>...</td>\n",
       "      <td>...</td>\n",
       "    </tr>\n",
       "    <tr>\n",
       "      <th>2713</th>\n",
       "      <td>-0.148588</td>\n",
       "      <td>0.323351</td>\n",
       "      <td>2.427269</td>\n",
       "      <td>-0.847467</td>\n",
       "      <td>6.392192</td>\n",
       "      <td>0.220506</td>\n",
       "      <td>-0.159553</td>\n",
       "      <td>-0.155958</td>\n",
       "      <td>-0.506491</td>\n",
       "    </tr>\n",
       "    <tr>\n",
       "      <th>2714</th>\n",
       "      <td>-0.148539</td>\n",
       "      <td>0.426398</td>\n",
       "      <td>2.495078</td>\n",
       "      <td>-0.705705</td>\n",
       "      <td>6.437216</td>\n",
       "      <td>0.099488</td>\n",
       "      <td>-0.159515</td>\n",
       "      <td>-0.155927</td>\n",
       "      <td>-0.593167</td>\n",
       "    </tr>\n",
       "    <tr>\n",
       "      <th>2715</th>\n",
       "      <td>-0.148473</td>\n",
       "      <td>0.474157</td>\n",
       "      <td>2.573595</td>\n",
       "      <td>-0.537320</td>\n",
       "      <td>6.475330</td>\n",
       "      <td>-0.008722</td>\n",
       "      <td>-0.159472</td>\n",
       "      <td>-0.155896</td>\n",
       "      <td>-0.622027</td>\n",
       "    </tr>\n",
       "    <tr>\n",
       "      <th>2716</th>\n",
       "      <td>-0.148420</td>\n",
       "      <td>0.493299</td>\n",
       "      <td>2.633374</td>\n",
       "      <td>-0.759646</td>\n",
       "      <td>6.508655</td>\n",
       "      <td>-0.455029</td>\n",
       "      <td>-0.159475</td>\n",
       "      <td>-0.155899</td>\n",
       "      <td>-0.595473</td>\n",
       "    </tr>\n",
       "    <tr>\n",
       "      <th>2717</th>\n",
       "      <td>-0.148450</td>\n",
       "      <td>0.542512</td>\n",
       "      <td>2.675309</td>\n",
       "      <td>-1.122544</td>\n",
       "      <td>6.535398</td>\n",
       "      <td>0.969405</td>\n",
       "      <td>-0.159545</td>\n",
       "      <td>-0.155981</td>\n",
       "      <td>-0.637836</td>\n",
       "    </tr>\n",
       "  </tbody>\n",
       "</table>\n",
       "<p>2718 rows × 9 columns</p>\n",
       "</div>"
      ],
      "text/plain": [
       "           gdp        iy       cpi  bond_rate       pop     unemp   imports  \\\n",
       "0    -0.149749 -0.700106 -0.678057   0.043844 -0.636795 -0.925916 -0.160111   \n",
       "1    -0.149748 -0.755515 -0.678793   0.024339 -0.638985 -0.925916 -0.160111   \n",
       "2    -0.149747 -0.449786 -0.681000  -0.006807 -0.637955 -0.925916 -0.160110   \n",
       "3    -0.149745 -0.514242 -0.681000  -0.025792 -0.636926 -0.925916 -0.160108   \n",
       "4    -0.149744 -0.313563 -0.678793  -0.031203 -0.635765 -0.925916 -0.160108   \n",
       "...        ...       ...       ...        ...       ...       ...       ...   \n",
       "2713 -0.148588  0.323351  2.427269  -0.847467  6.392192  0.220506 -0.159553   \n",
       "2714 -0.148539  0.426398  2.495078  -0.705705  6.437216  0.099488 -0.159515   \n",
       "2715 -0.148473  0.474157  2.573595  -0.537320  6.475330 -0.008722 -0.159472   \n",
       "2716 -0.148420  0.493299  2.633374  -0.759646  6.508655 -0.455029 -0.159475   \n",
       "2717 -0.148450  0.542512  2.675309  -1.122544  6.535398  0.969405 -0.159545   \n",
       "\n",
       "       exports     eq_dp  \n",
       "0    -0.156411  1.725863  \n",
       "1    -0.156409  1.460757  \n",
       "2    -0.156407  1.350760  \n",
       "3    -0.156408  1.417000  \n",
       "4    -0.156407  1.373285  \n",
       "...        ...       ...  \n",
       "2713 -0.155958 -0.506491  \n",
       "2714 -0.155927 -0.593167  \n",
       "2715 -0.155896 -0.622027  \n",
       "2716 -0.155899 -0.595473  \n",
       "2717 -0.155981 -0.637836  \n",
       "\n",
       "[2718 rows x 9 columns]"
      ]
     },
     "execution_count": 10,
     "metadata": {},
     "output_type": "execute_result"
    }
   ],
   "source": [
    "df_choose = df_clean[['gdp', 'iy', 'cpi', 'bond_rate', 'pop', 'unemp', 'imports', 'exports','eq_dp']]\n",
    "# gdp_growth is the response variable, the rest of variables is the predictors. \n",
    "df_choose"
   ]
  },
  {
   "cell_type": "code",
   "execution_count": 11,
   "id": "c59d97ec-ce9f-4de8-a72f-84e005d5683f",
   "metadata": {},
   "outputs": [
    {
     "data": {
      "text/html": [
       "<div>\n",
       "<style scoped>\n",
       "    .dataframe tbody tr th:only-of-type {\n",
       "        vertical-align: middle;\n",
       "    }\n",
       "\n",
       "    .dataframe tbody tr th {\n",
       "        vertical-align: top;\n",
       "    }\n",
       "\n",
       "    .dataframe thead th {\n",
       "        text-align: right;\n",
       "    }\n",
       "</style>\n",
       "<table border=\"1\" class=\"dataframe\">\n",
       "  <thead>\n",
       "    <tr style=\"text-align: right;\">\n",
       "      <th></th>\n",
       "      <th>gdp</th>\n",
       "      <th>iy</th>\n",
       "      <th>cpi</th>\n",
       "      <th>bond_rate</th>\n",
       "      <th>pop</th>\n",
       "      <th>unemp</th>\n",
       "      <th>imports</th>\n",
       "      <th>exports</th>\n",
       "      <th>eq_dp</th>\n",
       "    </tr>\n",
       "  </thead>\n",
       "  <tbody>\n",
       "    <tr>\n",
       "      <th>gdp</th>\n",
       "      <td>1.000000</td>\n",
       "      <td>0.100046</td>\n",
       "      <td>0.333919</td>\n",
       "      <td>0.014079</td>\n",
       "      <td>0.013733</td>\n",
       "      <td>0.359163</td>\n",
       "      <td>0.982531</td>\n",
       "      <td>0.973861</td>\n",
       "      <td>0.036868</td>\n",
       "    </tr>\n",
       "    <tr>\n",
       "      <th>iy</th>\n",
       "      <td>0.100046</td>\n",
       "      <td>1.000000</td>\n",
       "      <td>0.451717</td>\n",
       "      <td>0.175190</td>\n",
       "      <td>0.146352</td>\n",
       "      <td>0.245277</td>\n",
       "      <td>0.106789</td>\n",
       "      <td>0.098628</td>\n",
       "      <td>0.027998</td>\n",
       "    </tr>\n",
       "    <tr>\n",
       "      <th>cpi</th>\n",
       "      <td>0.333919</td>\n",
       "      <td>0.451717</td>\n",
       "      <td>1.000000</td>\n",
       "      <td>-0.014977</td>\n",
       "      <td>0.222092</td>\n",
       "      <td>0.516054</td>\n",
       "      <td>0.363156</td>\n",
       "      <td>0.358859</td>\n",
       "      <td>-0.154727</td>\n",
       "    </tr>\n",
       "    <tr>\n",
       "      <th>bond_rate</th>\n",
       "      <td>0.014079</td>\n",
       "      <td>0.175190</td>\n",
       "      <td>-0.014977</td>\n",
       "      <td>1.000000</td>\n",
       "      <td>0.063595</td>\n",
       "      <td>0.093309</td>\n",
       "      <td>-0.001681</td>\n",
       "      <td>-0.009065</td>\n",
       "      <td>0.342123</td>\n",
       "    </tr>\n",
       "    <tr>\n",
       "      <th>pop</th>\n",
       "      <td>0.013733</td>\n",
       "      <td>0.146352</td>\n",
       "      <td>0.222092</td>\n",
       "      <td>0.063595</td>\n",
       "      <td>1.000000</td>\n",
       "      <td>0.172879</td>\n",
       "      <td>0.003010</td>\n",
       "      <td>0.003655</td>\n",
       "      <td>0.071381</td>\n",
       "    </tr>\n",
       "    <tr>\n",
       "      <th>unemp</th>\n",
       "      <td>0.359163</td>\n",
       "      <td>0.245277</td>\n",
       "      <td>0.516054</td>\n",
       "      <td>0.093309</td>\n",
       "      <td>0.172879</td>\n",
       "      <td>1.000000</td>\n",
       "      <td>0.347722</td>\n",
       "      <td>0.350528</td>\n",
       "      <td>-0.011502</td>\n",
       "    </tr>\n",
       "    <tr>\n",
       "      <th>imports</th>\n",
       "      <td>0.982531</td>\n",
       "      <td>0.106789</td>\n",
       "      <td>0.363156</td>\n",
       "      <td>-0.001681</td>\n",
       "      <td>0.003010</td>\n",
       "      <td>0.347722</td>\n",
       "      <td>1.000000</td>\n",
       "      <td>0.993519</td>\n",
       "      <td>0.023523</td>\n",
       "    </tr>\n",
       "    <tr>\n",
       "      <th>exports</th>\n",
       "      <td>0.973861</td>\n",
       "      <td>0.098628</td>\n",
       "      <td>0.358859</td>\n",
       "      <td>-0.009065</td>\n",
       "      <td>0.003655</td>\n",
       "      <td>0.350528</td>\n",
       "      <td>0.993519</td>\n",
       "      <td>1.000000</td>\n",
       "      <td>0.025614</td>\n",
       "    </tr>\n",
       "    <tr>\n",
       "      <th>eq_dp</th>\n",
       "      <td>0.036868</td>\n",
       "      <td>0.027998</td>\n",
       "      <td>-0.154727</td>\n",
       "      <td>0.342123</td>\n",
       "      <td>0.071381</td>\n",
       "      <td>-0.011502</td>\n",
       "      <td>0.023523</td>\n",
       "      <td>0.025614</td>\n",
       "      <td>1.000000</td>\n",
       "    </tr>\n",
       "  </tbody>\n",
       "</table>\n",
       "</div>"
      ],
      "text/plain": [
       "                gdp        iy       cpi  bond_rate       pop     unemp  \\\n",
       "gdp        1.000000  0.100046  0.333919   0.014079  0.013733  0.359163   \n",
       "iy         0.100046  1.000000  0.451717   0.175190  0.146352  0.245277   \n",
       "cpi        0.333919  0.451717  1.000000  -0.014977  0.222092  0.516054   \n",
       "bond_rate  0.014079  0.175190 -0.014977   1.000000  0.063595  0.093309   \n",
       "pop        0.013733  0.146352  0.222092   0.063595  1.000000  0.172879   \n",
       "unemp      0.359163  0.245277  0.516054   0.093309  0.172879  1.000000   \n",
       "imports    0.982531  0.106789  0.363156  -0.001681  0.003010  0.347722   \n",
       "exports    0.973861  0.098628  0.358859  -0.009065  0.003655  0.350528   \n",
       "eq_dp      0.036868  0.027998 -0.154727   0.342123  0.071381 -0.011502   \n",
       "\n",
       "            imports   exports     eq_dp  \n",
       "gdp        0.982531  0.973861  0.036868  \n",
       "iy         0.106789  0.098628  0.027998  \n",
       "cpi        0.363156  0.358859 -0.154727  \n",
       "bond_rate -0.001681 -0.009065  0.342123  \n",
       "pop        0.003010  0.003655  0.071381  \n",
       "unemp      0.347722  0.350528 -0.011502  \n",
       "imports    1.000000  0.993519  0.023523  \n",
       "exports    0.993519  1.000000  0.025614  \n",
       "eq_dp      0.023523  0.025614  1.000000  "
      ]
     },
     "execution_count": 11,
     "metadata": {},
     "output_type": "execute_result"
    }
   ],
   "source": [
    "df_choose.corr()"
   ]
  },
  {
   "cell_type": "code",
   "execution_count": 12,
   "id": "ffa096d0-d094-4103-965f-caee552133aa",
   "metadata": {},
   "outputs": [
    {
     "data": {
      "image/png": "[encoded data removed]",
      "text/plain": [
       "<Figure size 640x480 with 1 Axes>"
      ]
     },
     "metadata": {},
     "output_type": "display_data"
    },
    {
     "data": {
      "image/png": "[encoded data removed]",
      "text/plain": [
       "<Figure size 640x480 with 1 Axes>"
      ]
     },
     "metadata": {},
     "output_type": "display_data"
    },
    {
     "data": {
      "image/png": "[encoded data removed]",
      "text/plain": [
       "<Figure size 640x480 with 1 Axes>"
      ]
     },
     "metadata": {},
     "output_type": "display_data"
    },
    {
     "data": {
      "image/png": "[encoded data removed]",
      "text/plain": [
       "<Figure size 640x480 with 1 Axes>"
      ]
     },
     "metadata": {},
     "output_type": "display_data"
    },
    {
     "data": {
      "image/png": "[encoded data removed]",
      "text/plain": [
       "<Figure size 640x480 with 1 Axes>"
      ]
     },
     "metadata": {},
     "output_type": "display_data"
    },
    {
     "data": {
      "image/png": "[encoded data removed]",
      "text/plain": [
       "<Figure size 640x480 with 1 Axes>"
      ]
     },
     "metadata": {},
     "output_type": "display_data"
    },
    {
     "data": {
      "image/png": "[encoded data removed]",
      "text/plain": [
       "<Figure size 640x480 with 1 Axes>"
      ]
     },
     "metadata": {},
     "output_type": "display_data"
    },
    {
     "data": {
      "image/png": "[encoded data removed]",
      "text/plain": [
       "<Figure size 640x480 with 1 Axes>"
      ]
     },
     "metadata": {},
     "output_type": "display_data"
    }
   ],
   "source": [
    "variables = ['iy', 'cpi', 'bond_rate', 'pop', 'unemp', 'imports', 'exports', 'eq_dp']\n",
    "for variable in variables:\n",
    "    sns.scatterplot(x='gdp', y=variable, data=df_choose)\n",
    "    plt.title(f'Scatter Plot of GDP Growth vs. {variable}')  \n",
    "    plt.xlabel('GDP Growth')  \n",
    "    plt.ylabel(variable)  \n",
    "    plt.show()  "
   ]
  },
  {
   "cell_type": "markdown",
   "id": "4615eaa8-d0e5-4887-bc9a-b370307fd717",
   "metadata": {},
   "source": [
    "# Linear regression, Backward elimination and cross validation"
   ]
  },
  {
   "cell_type": "code",
   "execution_count": 13,
   "id": "83b409f6-142b-4def-83b5-0271bb84fe76",
   "metadata": {},
   "outputs": [],
   "source": [
    "from sklearn.linear_model import LinearRegression\n",
    "from sklearn.model_selection import KFold\n",
    "from sklearn.model_selection import cross_val_score\n",
    "from sklearn.model_selection import train_test_split \n",
    "import statsmodels.formula.api as smf\n",
    "from sklearn.metrics import r2_score"
   ]
  },
  {
   "cell_type": "code",
   "execution_count": 14,
   "id": "3a7d9657-0f20-496a-ae78-cc2ec0e1501e",
   "metadata": {},
   "outputs": [],
   "source": [
    "df_train, df_test = train_test_split(df_choose, test_size = 0.4, random_state = 999)\n",
    "y = df_test['gdp']"
   ]
  },
  {
   "cell_type": "code",
   "execution_count": 15,
   "id": "22d15f59-52d9-4b32-a6fd-592665eadf23",
   "metadata": {},
   "outputs": [
    {
     "data": {
      "text/plain": [
       "0.9759647925935329"
      ]
     },
     "execution_count": 15,
     "metadata": {},
     "output_type": "execute_result"
    }
   ],
   "source": [
    "model_full = smf.ols(formula = 'gdp~iy+cpi+bond_rate+pop+unemp+imports+exports+eq_dp', data = df_train).fit()\n",
    "y_pre = model_full.predict(df_test)\n",
    "a=r2_score(y, y_pre)\n",
    "a"
   ]
  },
  {
   "cell_type": "code",
   "execution_count": 16,
   "id": "a6c65531-5f4a-45bf-9ffd-f20ac75ae8b3",
   "metadata": {},
   "outputs": [
    {
     "data": {
      "text/plain": [
       "0.9759683592092017"
      ]
     },
     "execution_count": 16,
     "metadata": {},
     "output_type": "execute_result"
    }
   ],
   "source": [
    "model_red1 = smf.ols(formula = 'gdp~cpi+bond_rate+pop+unemp+imports+exports+eq_dp', data = df_train).fit()\n",
    "y_pre = model_red1.predict(df_test)\n",
    "b=r2_score(y, y_pre)\n",
    "b"
   ]
  },
  {
   "cell_type": "code",
   "execution_count": 17,
   "id": "a2953e19-4f6f-4f51-982c-126e51dcd771",
   "metadata": {},
   "outputs": [
    {
     "data": {
      "text/plain": [
       "0.9752108105275684"
      ]
     },
     "execution_count": 17,
     "metadata": {},
     "output_type": "execute_result"
    }
   ],
   "source": [
    "model_red2 = smf.ols(formula = 'gdp~iy+bond_rate+pop+unemp+imports+exports+eq_dp', data = df_train).fit()\n",
    "y_pre = model_red2.predict(df_test)\n",
    "c=r2_score(y, y_pre)\n",
    "c"
   ]
  },
  {
   "cell_type": "code",
   "execution_count": 18,
   "id": "918550d1-e886-4c21-8f1d-35973dbbf7f0",
   "metadata": {},
   "outputs": [
    {
     "data": {
      "text/plain": [
       "0.976083711401542"
      ]
     },
     "execution_count": 18,
     "metadata": {},
     "output_type": "execute_result"
    }
   ],
   "source": [
    "model_red3 = smf.ols(formula = 'gdp~iy+cpi+pop+unemp+imports+exports+eq_dp', data = df_train).fit()\n",
    "y_pre = model_red3.predict(df_test)\n",
    "d=r2_score(y, y_pre)\n",
    "d"
   ]
  },
  {
   "cell_type": "code",
   "execution_count": 19,
   "id": "a8cee5ac-d30b-44f7-8486-74765d872aea",
   "metadata": {},
   "outputs": [
    {
     "data": {
      "text/plain": [
       "0.9759141838988507"
      ]
     },
     "execution_count": 19,
     "metadata": {},
     "output_type": "execute_result"
    }
   ],
   "source": [
    "model_red4 = smf.ols(formula = 'gdp~iy+cpi+bond_rate+unemp+imports+exports+eq_dp', data = df_train).fit()\n",
    "y_pre = model_red4.predict(df_test)\n",
    "e=r2_score(y, y_pre)\n",
    "e"
   ]
  },
  {
   "cell_type": "code",
   "execution_count": 20,
   "id": "342379f9-4bd5-460a-b638-3565601f58dd",
   "metadata": {},
   "outputs": [
    {
     "data": {
      "text/plain": [
       "0.9756204943208765"
      ]
     },
     "execution_count": 20,
     "metadata": {},
     "output_type": "execute_result"
    }
   ],
   "source": [
    "model_red5 = smf.ols(formula = 'gdp~iy+cpi+bond_rate+pop+imports+exports+eq_dp', data = df_train).fit()\n",
    "y_pre = model_red5.predict(df_test)\n",
    "f=r2_score(y, y_pre)\n",
    "f"
   ]
  },
  {
   "cell_type": "code",
   "execution_count": 21,
   "id": "bf8a3217-942f-475c-8b98-0f760aebb19d",
   "metadata": {},
   "outputs": [
    {
     "data": {
      "text/plain": [
       "0.9632535549676465"
      ]
     },
     "execution_count": 21,
     "metadata": {},
     "output_type": "execute_result"
    }
   ],
   "source": [
    "model_red6 = smf.ols(formula = 'gdp~iy+cpi+bond_rate+pop+unemp+exports+eq_dp', data = df_train).fit()\n",
    "y_pre = model_red6.predict(df_test)\n",
    "g=r2_score(y, y_pre)\n",
    "g"
   ]
  },
  {
   "cell_type": "code",
   "execution_count": 22,
   "id": "72c55ba1-5d5c-42fc-b2e4-aeb85b4ec15f",
   "metadata": {},
   "outputs": [
    {
     "data": {
      "text/plain": [
       "0.976063721353497"
      ]
     },
     "execution_count": 22,
     "metadata": {},
     "output_type": "execute_result"
    }
   ],
   "source": [
    "model_red7 = smf.ols(formula = 'gdp~iy+cpi+bond_rate+pop+unemp+imports+eq_dp', data = df_train).fit()\n",
    "y_pre = model_red7.predict(df_test)\n",
    "h=r2_score(y, y_pre)\n",
    "h"
   ]
  },
  {
   "cell_type": "code",
   "execution_count": 23,
   "id": "dc74e57b-50a9-4f06-a6e6-ea20628626a0",
   "metadata": {},
   "outputs": [
    {
     "data": {
      "text/plain": [
       "0.9632535549676465"
      ]
     },
     "execution_count": 23,
     "metadata": {},
     "output_type": "execute_result"
    }
   ],
   "source": [
    "model_red8 = smf.ols(formula = 'gdp~iy+cpi+bond_rate+pop+unemp+exports+eq_dp', data = df_train).fit()\n",
    "y_pre = model_red8.predict(df_test)\n",
    "i=r2_score(y, y_pre)\n",
    "i"
   ]
  },
  {
   "cell_type": "code",
   "execution_count": 24,
   "id": "d73fc5f0-1e8b-481e-b73c-34d36c993707",
   "metadata": {},
   "outputs": [
    {
     "data": {
      "text/plain": [
       "0.9759868977432241"
      ]
     },
     "execution_count": 24,
     "metadata": {},
     "output_type": "execute_result"
    }
   ],
   "source": [
    "model_red9 = smf.ols(formula = 'gdp~iy+cpi+bond_rate+pop+unemp+imports+exports', data = df_train).fit()\n",
    "y_pre = model_red9.predict(df_test)\n",
    "j=r2_score(y, y_pre)\n",
    "j"
   ]
  },
  {
   "cell_type": "code",
   "execution_count": 25,
   "id": "4b3cc4e6-0656-4e52-bd0c-91d38a1f2549",
   "metadata": {},
   "outputs": [
    {
     "data": {
      "text/plain": [
       "0.976083711401542"
      ]
     },
     "execution_count": 25,
     "metadata": {},
     "output_type": "execute_result"
    }
   ],
   "source": [
    "import numpy as np\n",
    "list = [a, b, c, d, e, f, g, h, i,j]\n",
    "np.max(list)"
   ]
  },
  {
   "cell_type": "markdown",
   "id": "1b9c1d96-3ae1-4213-adf3-56c0e487e609",
   "metadata": {},
   "source": [
    "When we drop the bond_rate, we get the highest test r2, so we choose to drop bond rate here."
   ]
  },
  {
   "cell_type": "code",
   "execution_count": 26,
   "id": "d653218a-044e-4250-b8b1-6d9c3891ce3c",
   "metadata": {},
   "outputs": [
    {
     "data": {
      "text/plain": [
       "0.9760747771338665"
      ]
     },
     "execution_count": 26,
     "metadata": {},
     "output_type": "execute_result"
    }
   ],
   "source": [
    "model_red10 = smf.ols(formula = 'gdp~cpi+pop+unemp+imports+exports+eq_dp', data = df_train).fit()\n",
    "y_pre = model_red10.predict(df_test)\n",
    "k=r2_score(y, y_pre)\n",
    "k"
   ]
  },
  {
   "cell_type": "code",
   "execution_count": 27,
   "id": "3657785d-717b-42a6-b00d-f066260b7c6d",
   "metadata": {},
   "outputs": [
    {
     "data": {
      "text/plain": [
       "0.9753207659978299"
      ]
     },
     "execution_count": 27,
     "metadata": {},
     "output_type": "execute_result"
    }
   ],
   "source": [
    "model_red11 = smf.ols(formula = 'gdp~iy+pop+unemp+imports+exports+eq_dp', data = df_train).fit()\n",
    "y_pre = model_red11.predict(df_test)\n",
    "l=r2_score(y, y_pre)\n",
    "l"
   ]
  },
  {
   "cell_type": "code",
   "execution_count": 28,
   "id": "27d20d63-d41b-4825-9e76-480111d71051",
   "metadata": {},
   "outputs": [
    {
     "data": {
      "text/plain": [
       "0.9760301109907996"
      ]
     },
     "execution_count": 28,
     "metadata": {},
     "output_type": "execute_result"
    }
   ],
   "source": [
    "model_red12 = smf.ols(formula = 'gdp~iy+cpi+unemp+imports+exports+eq_dp', data = df_train).fit()\n",
    "y_pre = model_red12.predict(df_test)\n",
    "m=r2_score(y, y_pre)\n",
    "m"
   ]
  },
  {
   "cell_type": "code",
   "execution_count": 29,
   "id": "93fa77b7-bd3d-417e-a015-231b18008ad6",
   "metadata": {},
   "outputs": [
    {
     "data": {
      "text/plain": [
       "0.9757960771752605"
      ]
     },
     "execution_count": 29,
     "metadata": {},
     "output_type": "execute_result"
    }
   ],
   "source": [
    "model_red13 = smf.ols(formula = 'gdp~iy+cpi+pop+imports+exports+eq_dp', data = df_train).fit()\n",
    "y_pre = model_red13.predict(df_test)\n",
    "n=r2_score(y, y_pre)\n",
    "n"
   ]
  },
  {
   "cell_type": "code",
   "execution_count": 30,
   "id": "90155203-f6d9-49d3-8808-0ebcd8271ba5",
   "metadata": {},
   "outputs": [
    {
     "data": {
      "text/plain": [
       "0.9633766709269702"
      ]
     },
     "execution_count": 30,
     "metadata": {},
     "output_type": "execute_result"
    }
   ],
   "source": [
    "model_red14 = smf.ols(formula = 'gdp~iy+cpi+pop+unemp+exports+eq_dp', data = df_train).fit()\n",
    "y_pre = model_red14.predict(df_test)\n",
    "o=r2_score(y, y_pre)\n",
    "o"
   ]
  },
  {
   "cell_type": "code",
   "execution_count": 31,
   "id": "ece080f9-927e-4215-ae2e-a76833a82043",
   "metadata": {},
   "outputs": [
    {
     "data": {
      "text/plain": [
       "0.9762135979698512"
      ]
     },
     "execution_count": 31,
     "metadata": {},
     "output_type": "execute_result"
    }
   ],
   "source": [
    "model_red15 = smf.ols(formula = 'gdp~iy+cpi+pop+unemp+imports+eq_dp', data = df_train).fit()\n",
    "y_pre = model_red15.predict(df_test)\n",
    "p=r2_score(y, y_pre)\n",
    "p"
   ]
  },
  {
   "cell_type": "code",
   "execution_count": 32,
   "id": "228591da-2444-4bc7-8fa4-1879da336bb3",
   "metadata": {},
   "outputs": [
    {
     "data": {
      "text/plain": [
       "0.9760406335349366"
      ]
     },
     "execution_count": 32,
     "metadata": {},
     "output_type": "execute_result"
    }
   ],
   "source": [
    "model_red16 = smf.ols(formula = 'gdp~iy+cpi+pop+unemp+imports+exports', data = df_train).fit()\n",
    "y_pre = model_red16.predict(df_test)\n",
    "q=r2_score(y, y_pre)\n",
    "q"
   ]
  },
  {
   "cell_type": "code",
   "execution_count": 33,
   "id": "68f9b28a-1ccb-4061-9f93-2f0e92b8bbd6",
   "metadata": {},
   "outputs": [
    {
     "data": {
      "text/plain": [
       "0.9762135979698512"
      ]
     },
     "execution_count": 33,
     "metadata": {},
     "output_type": "execute_result"
    }
   ],
   "source": [
    "list2 = [d, k,l, m, n, o, p, q]\n",
    "np.max(list2)"
   ]
  },
  {
   "cell_type": "markdown",
   "id": "204e8e4a-32e8-45a5-8c28-f3b9603c33df",
   "metadata": {},
   "source": [
    "When we drop bond rate and exports, we get the highest test r2, so we choose to drop bond rate and exports here."
   ]
  },
  {
   "cell_type": "code",
   "execution_count": 34,
   "id": "df28d706-ab71-4340-b44e-db0c900535cc",
   "metadata": {},
   "outputs": [
    {
     "data": {
      "text/plain": [
       "0.9761991094127797"
      ]
     },
     "execution_count": 34,
     "metadata": {},
     "output_type": "execute_result"
    }
   ],
   "source": [
    "model_red16 = smf.ols(formula = 'gdp~cpi+pop+unemp+imports+eq_dp', data = df_train).fit()\n",
    "y_pre = model_red16.predict(df_test)\n",
    "r=r2_score(y, y_pre)\n",
    "r"
   ]
  },
  {
   "cell_type": "code",
   "execution_count": 35,
   "id": "bb8ada1f-4160-46aa-b419-8711e9c6574f",
   "metadata": {},
   "outputs": [
    {
     "data": {
      "text/plain": [
       "0.9755603719870275"
      ]
     },
     "execution_count": 35,
     "metadata": {},
     "output_type": "execute_result"
    }
   ],
   "source": [
    "model_red17 = smf.ols(formula = 'gdp~iy+pop+unemp+imports+eq_dp', data = df_train).fit()\n",
    "y_pre = model_red17.predict(df_test)\n",
    "s=r2_score(y, y_pre)\n",
    "s"
   ]
  },
  {
   "cell_type": "code",
   "execution_count": 36,
   "id": "52ec1879-d23c-4a38-a0cf-d98903ecae27",
   "metadata": {},
   "outputs": [
    {
     "data": {
      "text/plain": [
       "0.9758597680652338"
      ]
     },
     "execution_count": 36,
     "metadata": {},
     "output_type": "execute_result"
    }
   ],
   "source": [
    "model_red18 = smf.ols(formula = 'gdp~iy+pop+cpi+imports+eq_dp', data = df_train).fit()\n",
    "y_pre = model_red18.predict(df_test)\n",
    "t=r2_score(y, y_pre)\n",
    "t"
   ]
  },
  {
   "cell_type": "code",
   "execution_count": 37,
   "id": "f6b70d47-640b-49c3-bb13-aae9825197b0",
   "metadata": {},
   "outputs": [
    {
     "data": {
      "text/plain": [
       "0.18435154678909604"
      ]
     },
     "execution_count": 37,
     "metadata": {},
     "output_type": "execute_result"
    }
   ],
   "source": [
    "model_red19 = smf.ols(formula = 'gdp~iy+pop+cpi+unemp+eq_dp', data = df_train).fit()\n",
    "y_pre = model_red19.predict(df_test)\n",
    "u=r2_score(y, y_pre)\n",
    "u"
   ]
  },
  {
   "cell_type": "code",
   "execution_count": 38,
   "id": "d83e47ed-aaf4-4884-96af-aab9cd6bb461",
   "metadata": {},
   "outputs": [
    {
     "data": {
      "text/plain": [
       "0.9761791283660692"
      ]
     },
     "execution_count": 38,
     "metadata": {},
     "output_type": "execute_result"
    }
   ],
   "source": [
    "model_red20 = smf.ols(formula = 'gdp~iy+pop+cpi+unemp+imports', data = df_train).fit()\n",
    "y_pre = model_red20.predict(df_test)\n",
    "v=r2_score(y, y_pre)\n",
    "v"
   ]
  },
  {
   "cell_type": "code",
   "execution_count": 39,
   "id": "f7a5439f-d30f-4734-b566-8b06a07c72ea",
   "metadata": {},
   "outputs": [
    {
     "data": {
      "text/plain": [
       "0.9762135979698512"
      ]
     },
     "execution_count": 39,
     "metadata": {},
     "output_type": "execute_result"
    }
   ],
   "source": [
    "list3 = [p, r,s,t,u,v]\n",
    "np.max(list3)"
   ]
  },
  {
   "cell_type": "markdown",
   "id": "2a9aa349-197a-4ad6-a7a4-aea5fde96e6f",
   "metadata": {},
   "source": [
    "When we drop bond rate and exports, we get the highest test r2, so we choose to drop bond rate and exports here. As a result, the final model should drop bond rate and exports which is the model_red15 which has r2 - 0.9762135979698512."
   ]
  },
  {
   "cell_type": "code",
   "execution_count": 40,
   "id": "0a77dfb9-cdd7-41d2-9357-c67e3c7383cd",
   "metadata": {},
   "outputs": [
    {
     "data": {
      "text/html": [
       "<table class=\"simpletable\">\n",
       "<caption>OLS Regression Results</caption>\n",
       "<tr>\n",
       "  <th>Dep. Variable:</th>           <td>gdp</td>       <th>  R-squared:         </th> <td>   0.959</td>\n",
       "</tr>\n",
       "<tr>\n",
       "  <th>Model:</th>                   <td>OLS</td>       <th>  Adj. R-squared:    </th> <td>   0.958</td>\n",
       "</tr>\n",
       "<tr>\n",
       "  <th>Method:</th>             <td>Least Squares</td>  <th>  F-statistic:       </th> <td>   6252.</td>\n",
       "</tr>\n",
       "<tr>\n",
       "  <th>Date:</th>             <td>Sun, 28 Apr 2024</td> <th>  Prob (F-statistic):</th>  <td>  0.00</td> \n",
       "</tr>\n",
       "<tr>\n",
       "  <th>Time:</th>                 <td>00:54:58</td>     <th>  Log-Likelihood:    </th> <td>  395.42</td>\n",
       "</tr>\n",
       "<tr>\n",
       "  <th>No. Observations:</th>      <td>  1630</td>      <th>  AIC:               </th> <td>  -776.8</td>\n",
       "</tr>\n",
       "<tr>\n",
       "  <th>Df Residuals:</th>          <td>  1623</td>      <th>  BIC:               </th> <td>  -739.1</td>\n",
       "</tr>\n",
       "<tr>\n",
       "  <th>Df Model:</th>              <td>     6</td>      <th>                     </th>     <td> </td>   \n",
       "</tr>\n",
       "<tr>\n",
       "  <th>Covariance Type:</th>      <td>nonrobust</td>    <th>                     </th>     <td> </td>   \n",
       "</tr>\n",
       "</table>\n",
       "<table class=\"simpletable\">\n",
       "<tr>\n",
       "      <td></td>         <th>coef</th>     <th>std err</th>      <th>t</th>      <th>P>|t|</th>  <th>[0.025</th>    <th>0.975]</th>  \n",
       "</tr>\n",
       "<tr>\n",
       "  <th>Intercept</th> <td>   -0.0018</td> <td>    0.005</td> <td>   -0.389</td> <td> 0.697</td> <td>   -0.011</td> <td>    0.007</td>\n",
       "</tr>\n",
       "<tr>\n",
       "  <th>iy</th>        <td>    0.0046</td> <td>    0.005</td> <td>    0.871</td> <td> 0.384</td> <td>   -0.006</td> <td>    0.015</td>\n",
       "</tr>\n",
       "<tr>\n",
       "  <th>cpi</th>       <td>   -0.0544</td> <td>    0.007</td> <td>   -8.275</td> <td> 0.000</td> <td>   -0.067</td> <td>   -0.041</td>\n",
       "</tr>\n",
       "<tr>\n",
       "  <th>pop</th>       <td>    0.0174</td> <td>    0.005</td> <td>    3.407</td> <td> 0.001</td> <td>    0.007</td> <td>    0.027</td>\n",
       "</tr>\n",
       "<tr>\n",
       "  <th>unemp</th>     <td>    0.0435</td> <td>    0.006</td> <td>    7.602</td> <td> 0.000</td> <td>    0.032</td> <td>    0.055</td>\n",
       "</tr>\n",
       "<tr>\n",
       "  <th>imports</th>   <td>    0.9701</td> <td>    0.006</td> <td>  176.275</td> <td> 0.000</td> <td>    0.959</td> <td>    0.981</td>\n",
       "</tr>\n",
       "<tr>\n",
       "  <th>eq_dp</th>     <td>    0.0023</td> <td>    0.005</td> <td>    0.469</td> <td> 0.639</td> <td>   -0.007</td> <td>    0.012</td>\n",
       "</tr>\n",
       "</table>\n",
       "<table class=\"simpletable\">\n",
       "<tr>\n",
       "  <th>Omnibus:</th>       <td>1379.773</td> <th>  Durbin-Watson:     </th>  <td>   1.989</td> \n",
       "</tr>\n",
       "<tr>\n",
       "  <th>Prob(Omnibus):</th>  <td> 0.000</td>  <th>  Jarque-Bera (JB):  </th> <td>157235.072</td>\n",
       "</tr>\n",
       "<tr>\n",
       "  <th>Skew:</th>           <td>-3.334</td>  <th>  Prob(JB):          </th>  <td>    0.00</td> \n",
       "</tr>\n",
       "<tr>\n",
       "  <th>Kurtosis:</th>       <td>50.651</td>  <th>  Cond. No.          </th>  <td>    2.39</td> \n",
       "</tr>\n",
       "</table><br/><br/>Notes:<br/>[1] Standard Errors assume that the covariance matrix of the errors is correctly specified."
      ],
      "text/latex": [
       "\\begin{center}\n",
       "\\begin{tabular}{lclc}\n",
       "\\toprule\n",
       "\\textbf{Dep. Variable:}    &       gdp        & \\textbf{  R-squared:         } &     0.959   \\\\\n",
       "\\textbf{Model:}            &       OLS        & \\textbf{  Adj. R-squared:    } &     0.958   \\\\\n",
       "\\textbf{Method:}           &  Least Squares   & \\textbf{  F-statistic:       } &     6252.   \\\\\n",
       "\\textbf{Date:}             & Sun, 28 Apr 2024 & \\textbf{  Prob (F-statistic):} &     0.00    \\\\\n",
       "\\textbf{Time:}             &     00:54:58     & \\textbf{  Log-Likelihood:    } &    395.42   \\\\\n",
       "\\textbf{No. Observations:} &        1630      & \\textbf{  AIC:               } &    -776.8   \\\\\n",
       "\\textbf{Df Residuals:}     &        1623      & \\textbf{  BIC:               } &    -739.1   \\\\\n",
       "\\textbf{Df Model:}         &           6      & \\textbf{                     } &             \\\\\n",
       "\\textbf{Covariance Type:}  &    nonrobust     & \\textbf{                     } &             \\\\\n",
       "\\bottomrule\n",
       "\\end{tabular}\n",
       "\\begin{tabular}{lcccccc}\n",
       "                   & \\textbf{coef} & \\textbf{std err} & \\textbf{t} & \\textbf{P$> |$t$|$} & \\textbf{[0.025} & \\textbf{0.975]}  \\\\\n",
       "\\midrule\n",
       "\\textbf{Intercept} &      -0.0018  &        0.005     &    -0.389  &         0.697        &       -0.011    &        0.007     \\\\\n",
       "\\textbf{iy}        &       0.0046  &        0.005     &     0.871  &         0.384        &       -0.006    &        0.015     \\\\\n",
       "\\textbf{cpi}       &      -0.0544  &        0.007     &    -8.275  &         0.000        &       -0.067    &       -0.041     \\\\\n",
       "\\textbf{pop}       &       0.0174  &        0.005     &     3.407  &         0.001        &        0.007    &        0.027     \\\\\n",
       "\\textbf{unemp}     &       0.0435  &        0.006     &     7.602  &         0.000        &        0.032    &        0.055     \\\\\n",
       "\\textbf{imports}   &       0.9701  &        0.006     &   176.275  &         0.000        &        0.959    &        0.981     \\\\\n",
       "\\textbf{eq\\_dp}    &       0.0023  &        0.005     &     0.469  &         0.639        &       -0.007    &        0.012     \\\\\n",
       "\\bottomrule\n",
       "\\end{tabular}\n",
       "\\begin{tabular}{lclc}\n",
       "\\textbf{Omnibus:}       & 1379.773 & \\textbf{  Durbin-Watson:     } &     1.989   \\\\\n",
       "\\textbf{Prob(Omnibus):} &   0.000  & \\textbf{  Jarque-Bera (JB):  } & 157235.072  \\\\\n",
       "\\textbf{Skew:}          &  -3.334  & \\textbf{  Prob(JB):          } &      0.00   \\\\\n",
       "\\textbf{Kurtosis:}      &  50.651  & \\textbf{  Cond. No.          } &      2.39   \\\\\n",
       "\\bottomrule\n",
       "\\end{tabular}\n",
       "%\\caption{OLS Regression Results}\n",
       "\\end{center}\n",
       "\n",
       "Notes: \\newline\n",
       " [1] Standard Errors assume that the covariance matrix of the errors is correctly specified."
      ],
      "text/plain": [
       "<class 'statsmodels.iolib.summary.Summary'>\n",
       "\"\"\"\n",
       "                            OLS Regression Results                            \n",
       "==============================================================================\n",
       "Dep. Variable:                    gdp   R-squared:                       0.959\n",
       "Model:                            OLS   Adj. R-squared:                  0.958\n",
       "Method:                 Least Squares   F-statistic:                     6252.\n",
       "Date:                Sun, 28 Apr 2024   Prob (F-statistic):               0.00\n",
       "Time:                        00:54:58   Log-Likelihood:                 395.42\n",
       "No. Observations:                1630   AIC:                            -776.8\n",
       "Df Residuals:                    1623   BIC:                            -739.1\n",
       "Df Model:                           6                                         \n",
       "Covariance Type:            nonrobust                                         \n",
       "==============================================================================\n",
       "                 coef    std err          t      P>|t|      [0.025      0.975]\n",
       "------------------------------------------------------------------------------\n",
       "Intercept     -0.0018      0.005     -0.389      0.697      -0.011       0.007\n",
       "iy             0.0046      0.005      0.871      0.384      -0.006       0.015\n",
       "cpi           -0.0544      0.007     -8.275      0.000      -0.067      -0.041\n",
       "pop            0.0174      0.005      3.407      0.001       0.007       0.027\n",
       "unemp          0.0435      0.006      7.602      0.000       0.032       0.055\n",
       "imports        0.9701      0.006    176.275      0.000       0.959       0.981\n",
       "eq_dp          0.0023      0.005      0.469      0.639      -0.007       0.012\n",
       "==============================================================================\n",
       "Omnibus:                     1379.773   Durbin-Watson:                   1.989\n",
       "Prob(Omnibus):                  0.000   Jarque-Bera (JB):           157235.072\n",
       "Skew:                          -3.334   Prob(JB):                         0.00\n",
       "Kurtosis:                      50.651   Cond. No.                         2.39\n",
       "==============================================================================\n",
       "\n",
       "Notes:\n",
       "[1] Standard Errors assume that the covariance matrix of the errors is correctly specified.\n",
       "\"\"\""
      ]
     },
     "execution_count": 40,
     "metadata": {},
     "output_type": "execute_result"
    }
   ],
   "source": [
    "model_red15.summary()"
   ]
  },
  {
   "cell_type": "markdown",
   "id": "9a02b68d-7ba2-4312-a87e-4c6c5f7b12bd",
   "metadata": {},
   "source": [
    "# Lasso model and KFold"
   ]
  },
  {
   "cell_type": "code",
   "execution_count": 41,
   "id": "929937f2-9f98-46df-9d58-dc05ecdfa824",
   "metadata": {},
   "outputs": [],
   "source": [
    "from sklearn.linear_model import Lasso"
   ]
  },
  {
   "cell_type": "code",
   "execution_count": 42,
   "id": "271afa7f-4cb0-4f24-9ab5-1ad6ddd1c22b",
   "metadata": {},
   "outputs": [],
   "source": [
    "cross_val = KFold(n_splits=5, shuffle = True, random_state = 300) # k = 5 cross validation"
   ]
  },
  {
   "cell_type": "code",
   "execution_count": 43,
   "id": "57a14324-4d8e-4c17-b15f-83e8814f00db",
   "metadata": {},
   "outputs": [],
   "source": [
    "y = df_choose['gdp']\n",
    "predictors = df_choose.drop(['gdp'], axis = 1)"
   ]
  },
  {
   "cell_type": "code",
   "execution_count": 44,
   "id": "6bb357c9-029e-4f6a-8149-9df274b2d882",
   "metadata": {},
   "outputs": [],
   "source": [
    "lamda=[]\n",
    "df_r2=[]\n",
    "for i in np.arange(0, 1, 0.01):\n",
    "    lamda.append(i)\n",
    "# get a lamda list"
   ]
  },
  {
   "cell_type": "code",
   "execution_count": 45,
   "id": "ac6cc770-f730-42dd-8145-ad5d3770679a",
   "metadata": {},
   "outputs": [
    {
     "name": "stderr",
     "output_type": "stream",
     "text": [
      "B:\\miniconda\\Lib\\site-packages\\sklearn\\base.py:1151: UserWarning: With alpha=0, this algorithm does not converge well. You are advised to use the LinearRegression estimator\n",
      "  return fit_method(estimator, *args, **kwargs)\n",
      "B:\\miniconda\\Lib\\site-packages\\sklearn\\linear_model\\_coordinate_descent.py:628: UserWarning: Coordinate descent with no regularization may lead to unexpected results and is discouraged.\n",
      "  model = cd_fast.enet_coordinate_descent(\n",
      "B:\\miniconda\\Lib\\site-packages\\sklearn\\linear_model\\_coordinate_descent.py:628: ConvergenceWarning: Objective did not converge. You might want to increase the number of iterations, check the scale of the features or consider increasing regularisation. Duality gap: 3.156e+01, tolerance: 1.850e-01 Linear regression models with null weight for the l1 regularization term are more efficiently fitted using one of the solvers implemented in sklearn.linear_model.Ridge/RidgeCV instead.\n",
      "  model = cd_fast.enet_coordinate_descent(\n",
      "B:\\miniconda\\Lib\\site-packages\\sklearn\\base.py:1151: UserWarning: With alpha=0, this algorithm does not converge well. You are advised to use the LinearRegression estimator\n",
      "  return fit_method(estimator, *args, **kwargs)\n",
      "B:\\miniconda\\Lib\\site-packages\\sklearn\\linear_model\\_coordinate_descent.py:628: UserWarning: Coordinate descent with no regularization may lead to unexpected results and is discouraged.\n",
      "  model = cd_fast.enet_coordinate_descent(\n",
      "B:\\miniconda\\Lib\\site-packages\\sklearn\\linear_model\\_coordinate_descent.py:628: ConvergenceWarning: Objective did not converge. You might want to increase the number of iterations, check the scale of the features or consider increasing regularisation. Duality gap: 3.867e+01, tolerance: 2.062e-01 Linear regression models with null weight for the l1 regularization term are more efficiently fitted using one of the solvers implemented in sklearn.linear_model.Ridge/RidgeCV instead.\n",
      "  model = cd_fast.enet_coordinate_descent(\n",
      "B:\\miniconda\\Lib\\site-packages\\sklearn\\base.py:1151: UserWarning: With alpha=0, this algorithm does not converge well. You are advised to use the LinearRegression estimator\n",
      "  return fit_method(estimator, *args, **kwargs)\n",
      "B:\\miniconda\\Lib\\site-packages\\sklearn\\linear_model\\_coordinate_descent.py:628: UserWarning: Coordinate descent with no regularization may lead to unexpected results and is discouraged.\n",
      "  model = cd_fast.enet_coordinate_descent(\n",
      "B:\\miniconda\\Lib\\site-packages\\sklearn\\linear_model\\_coordinate_descent.py:628: ConvergenceWarning: Objective did not converge. You might want to increase the number of iterations, check the scale of the features or consider increasing regularisation. Duality gap: 3.807e+01, tolerance: 1.964e-01 Linear regression models with null weight for the l1 regularization term are more efficiently fitted using one of the solvers implemented in sklearn.linear_model.Ridge/RidgeCV instead.\n",
      "  model = cd_fast.enet_coordinate_descent(\n",
      "B:\\miniconda\\Lib\\site-packages\\sklearn\\base.py:1151: UserWarning: With alpha=0, this algorithm does not converge well. You are advised to use the LinearRegression estimator\n",
      "  return fit_method(estimator, *args, **kwargs)\n",
      "B:\\miniconda\\Lib\\site-packages\\sklearn\\linear_model\\_coordinate_descent.py:628: UserWarning: Coordinate descent with no regularization may lead to unexpected results and is discouraged.\n",
      "  model = cd_fast.enet_coordinate_descent(\n",
      "B:\\miniconda\\Lib\\site-packages\\sklearn\\linear_model\\_coordinate_descent.py:628: ConvergenceWarning: Objective did not converge. You might want to increase the number of iterations, check the scale of the features or consider increasing regularisation. Duality gap: 3.920e+01, tolerance: 2.538e-01 Linear regression models with null weight for the l1 regularization term are more efficiently fitted using one of the solvers implemented in sklearn.linear_model.Ridge/RidgeCV instead.\n",
      "  model = cd_fast.enet_coordinate_descent(\n",
      "B:\\miniconda\\Lib\\site-packages\\sklearn\\base.py:1151: UserWarning: With alpha=0, this algorithm does not converge well. You are advised to use the LinearRegression estimator\n",
      "  return fit_method(estimator, *args, **kwargs)\n",
      "B:\\miniconda\\Lib\\site-packages\\sklearn\\linear_model\\_coordinate_descent.py:628: UserWarning: Coordinate descent with no regularization may lead to unexpected results and is discouraged.\n",
      "  model = cd_fast.enet_coordinate_descent(\n",
      "B:\\miniconda\\Lib\\site-packages\\sklearn\\linear_model\\_coordinate_descent.py:628: ConvergenceWarning: Objective did not converge. You might want to increase the number of iterations, check the scale of the features or consider increasing regularisation. Duality gap: 2.629e+01, tolerance: 2.456e-01 Linear regression models with null weight for the l1 regularization term are more efficiently fitted using one of the solvers implemented in sklearn.linear_model.Ridge/RidgeCV instead.\n",
      "  model = cd_fast.enet_coordinate_descent(\n"
     ]
    },
    {
     "data": {
      "text/html": [
       "<div>\n",
       "<style scoped>\n",
       "    .dataframe tbody tr th:only-of-type {\n",
       "        vertical-align: middle;\n",
       "    }\n",
       "\n",
       "    .dataframe tbody tr th {\n",
       "        vertical-align: top;\n",
       "    }\n",
       "\n",
       "    .dataframe thead th {\n",
       "        text-align: right;\n",
       "    }\n",
       "</style>\n",
       "<table border=\"1\" class=\"dataframe\">\n",
       "  <thead>\n",
       "    <tr style=\"text-align: right;\">\n",
       "      <th></th>\n",
       "      <th>lamda</th>\n",
       "      <th>average test r2</th>\n",
       "      <th>std test r2</th>\n",
       "    </tr>\n",
       "  </thead>\n",
       "  <tbody>\n",
       "    <tr>\n",
       "      <th>0</th>\n",
       "      <td>0.00</td>\n",
       "      <td>0.950834</td>\n",
       "      <td>0.044766</td>\n",
       "    </tr>\n",
       "    <tr>\n",
       "      <th>1</th>\n",
       "      <td>0.01</td>\n",
       "      <td>0.949843</td>\n",
       "      <td>0.047117</td>\n",
       "    </tr>\n",
       "    <tr>\n",
       "      <th>2</th>\n",
       "      <td>0.02</td>\n",
       "      <td>0.948337</td>\n",
       "      <td>0.047115</td>\n",
       "    </tr>\n",
       "    <tr>\n",
       "      <th>3</th>\n",
       "      <td>0.03</td>\n",
       "      <td>0.947795</td>\n",
       "      <td>0.046402</td>\n",
       "    </tr>\n",
       "    <tr>\n",
       "      <th>4</th>\n",
       "      <td>0.04</td>\n",
       "      <td>0.947176</td>\n",
       "      <td>0.045700</td>\n",
       "    </tr>\n",
       "    <tr>\n",
       "      <th>...</th>\n",
       "      <td>...</td>\n",
       "      <td>...</td>\n",
       "      <td>...</td>\n",
       "    </tr>\n",
       "    <tr>\n",
       "      <th>95</th>\n",
       "      <td>0.95</td>\n",
       "      <td>0.104590</td>\n",
       "      <td>0.131170</td>\n",
       "    </tr>\n",
       "    <tr>\n",
       "      <th>96</th>\n",
       "      <td>0.96</td>\n",
       "      <td>0.098933</td>\n",
       "      <td>0.124257</td>\n",
       "    </tr>\n",
       "    <tr>\n",
       "      <th>97</th>\n",
       "      <td>0.97</td>\n",
       "      <td>0.093213</td>\n",
       "      <td>0.117271</td>\n",
       "    </tr>\n",
       "    <tr>\n",
       "      <th>98</th>\n",
       "      <td>0.98</td>\n",
       "      <td>0.087432</td>\n",
       "      <td>0.110211</td>\n",
       "    </tr>\n",
       "    <tr>\n",
       "      <th>99</th>\n",
       "      <td>0.99</td>\n",
       "      <td>0.081589</td>\n",
       "      <td>0.103079</td>\n",
       "    </tr>\n",
       "  </tbody>\n",
       "</table>\n",
       "<p>100 rows × 3 columns</p>\n",
       "</div>"
      ],
      "text/plain": [
       "    lamda  average test r2  std test r2\n",
       "0    0.00         0.950834     0.044766\n",
       "1    0.01         0.949843     0.047117\n",
       "2    0.02         0.948337     0.047115\n",
       "3    0.03         0.947795     0.046402\n",
       "4    0.04         0.947176     0.045700\n",
       "..    ...              ...          ...\n",
       "95   0.95         0.104590     0.131170\n",
       "96   0.96         0.098933     0.124257\n",
       "97   0.97         0.093213     0.117271\n",
       "98   0.98         0.087432     0.110211\n",
       "99   0.99         0.081589     0.103079\n",
       "\n",
       "[100 rows x 3 columns]"
      ]
     },
     "execution_count": 45,
     "metadata": {},
     "output_type": "execute_result"
    }
   ],
   "source": [
    "for x in lamda:\n",
    "    model = Lasso(alpha = x, max_iter = 1000)\n",
    "    test1_fold_r2 = cross_val_score(model, predictors, y, cv = cross_val, scoring = 'r2')\n",
    "    df_r2.append([x, test1_fold_r2.mean(), test1_fold_r2.std()])\n",
    "df_r2_1 = pd.DataFrame(df_r2, columns = ['lamda', 'average test r2', 'std test r2'])\n",
    "df_r2_1"
   ]
  },
  {
   "cell_type": "code",
   "execution_count": 46,
   "id": "c004b87b-605e-4647-8694-1ebb82c65173",
   "metadata": {},
   "outputs": [
    {
     "data": {
      "text/html": [
       "<div>\n",
       "<style scoped>\n",
       "    .dataframe tbody tr th:only-of-type {\n",
       "        vertical-align: middle;\n",
       "    }\n",
       "\n",
       "    .dataframe tbody tr th {\n",
       "        vertical-align: top;\n",
       "    }\n",
       "\n",
       "    .dataframe thead th {\n",
       "        text-align: right;\n",
       "    }\n",
       "</style>\n",
       "<table border=\"1\" class=\"dataframe\">\n",
       "  <thead>\n",
       "    <tr style=\"text-align: right;\">\n",
       "      <th></th>\n",
       "      <th>lamda</th>\n",
       "      <th>average test r2</th>\n",
       "      <th>std test r2</th>\n",
       "    </tr>\n",
       "  </thead>\n",
       "  <tbody>\n",
       "    <tr>\n",
       "      <th>0</th>\n",
       "      <td>0.00</td>\n",
       "      <td>0.950834</td>\n",
       "      <td>0.044766</td>\n",
       "    </tr>\n",
       "    <tr>\n",
       "      <th>1</th>\n",
       "      <td>0.01</td>\n",
       "      <td>0.949843</td>\n",
       "      <td>0.047117</td>\n",
       "    </tr>\n",
       "    <tr>\n",
       "      <th>2</th>\n",
       "      <td>0.02</td>\n",
       "      <td>0.948337</td>\n",
       "      <td>0.047115</td>\n",
       "    </tr>\n",
       "    <tr>\n",
       "      <th>3</th>\n",
       "      <td>0.03</td>\n",
       "      <td>0.947795</td>\n",
       "      <td>0.046402</td>\n",
       "    </tr>\n",
       "    <tr>\n",
       "      <th>4</th>\n",
       "      <td>0.04</td>\n",
       "      <td>0.947176</td>\n",
       "      <td>0.045700</td>\n",
       "    </tr>\n",
       "    <tr>\n",
       "      <th>...</th>\n",
       "      <td>...</td>\n",
       "      <td>...</td>\n",
       "      <td>...</td>\n",
       "    </tr>\n",
       "    <tr>\n",
       "      <th>95</th>\n",
       "      <td>0.95</td>\n",
       "      <td>0.104590</td>\n",
       "      <td>0.131170</td>\n",
       "    </tr>\n",
       "    <tr>\n",
       "      <th>96</th>\n",
       "      <td>0.96</td>\n",
       "      <td>0.098933</td>\n",
       "      <td>0.124257</td>\n",
       "    </tr>\n",
       "    <tr>\n",
       "      <th>97</th>\n",
       "      <td>0.97</td>\n",
       "      <td>0.093213</td>\n",
       "      <td>0.117271</td>\n",
       "    </tr>\n",
       "    <tr>\n",
       "      <th>98</th>\n",
       "      <td>0.98</td>\n",
       "      <td>0.087432</td>\n",
       "      <td>0.110211</td>\n",
       "    </tr>\n",
       "    <tr>\n",
       "      <th>99</th>\n",
       "      <td>0.99</td>\n",
       "      <td>0.081589</td>\n",
       "      <td>0.103079</td>\n",
       "    </tr>\n",
       "  </tbody>\n",
       "</table>\n",
       "<p>100 rows × 3 columns</p>\n",
       "</div>"
      ],
      "text/plain": [
       "    lamda  average test r2  std test r2\n",
       "0    0.00         0.950834     0.044766\n",
       "1    0.01         0.949843     0.047117\n",
       "2    0.02         0.948337     0.047115\n",
       "3    0.03         0.947795     0.046402\n",
       "4    0.04         0.947176     0.045700\n",
       "..    ...              ...          ...\n",
       "95   0.95         0.104590     0.131170\n",
       "96   0.96         0.098933     0.124257\n",
       "97   0.97         0.093213     0.117271\n",
       "98   0.98         0.087432     0.110211\n",
       "99   0.99         0.081589     0.103079\n",
       "\n",
       "[100 rows x 3 columns]"
      ]
     },
     "execution_count": 46,
     "metadata": {},
     "output_type": "execute_result"
    }
   ],
   "source": [
    "df_r2_1.sort_values(by=['average test r2'], ascending=False)"
   ]
  },
  {
   "cell_type": "code",
   "execution_count": 47,
   "id": "7fc6b822-259a-4212-add4-c0e824f36d0e",
   "metadata": {},
   "outputs": [
    {
     "data": {
      "text/plain": [
       "[<matplotlib.lines.Line2D at 0x24e6ba353d0>]"
      ]
     },
     "execution_count": 47,
     "metadata": {},
     "output_type": "execute_result"
    },
    {
     "data": {
      "image/png": "[encoded data removed]",
      "text/plain": [
       "<Figure size 640x480 with 1 Axes>"
      ]
     },
     "metadata": {},
     "output_type": "display_data"
    }
   ],
   "source": [
    "plt.plot(df_r2_1['lamda'].values, df_r2_1['average test r2'].values)"
   ]
  },
  {
   "cell_type": "code",
   "execution_count": 48,
   "id": "e437bb55-90d4-4454-aa14-a8470ed32cc8",
   "metadata": {},
   "outputs": [
    {
     "name": "stderr",
     "output_type": "stream",
     "text": [
      "B:\\miniconda\\Lib\\site-packages\\sklearn\\base.py:1151: UserWarning: With alpha=0, this algorithm does not converge well. You are advised to use the LinearRegression estimator\n",
      "  return fit_method(estimator, *args, **kwargs)\n",
      "B:\\miniconda\\Lib\\site-packages\\sklearn\\linear_model\\_coordinate_descent.py:628: UserWarning: Coordinate descent with no regularization may lead to unexpected results and is discouraged.\n",
      "  model = cd_fast.enet_coordinate_descent(\n",
      "B:\\miniconda\\Lib\\site-packages\\sklearn\\linear_model\\_coordinate_descent.py:628: ConvergenceWarning: Objective did not converge. You might want to increase the number of iterations, check the scale of the features or consider increasing regularisation. Duality gap: 4.364e+01, tolerance: 2.718e-01 Linear regression models with null weight for the l1 regularization term are more efficiently fitted using one of the solvers implemented in sklearn.linear_model.Ridge/RidgeCV instead.\n",
      "  model = cd_fast.enet_coordinate_descent(\n"
     ]
    },
    {
     "data": {
      "text/html": [
       "<style>#sk-container-id-1 {color: black;}#sk-container-id-1 pre{padding: 0;}#sk-container-id-1 div.sk-toggleable {background-color: white;}#sk-container-id-1 label.sk-toggleable__label {cursor: pointer;display: block;width: 100%;margin-bottom: 0;padding: 0.3em;box-sizing: border-box;text-align: center;}#sk-container-id-1 label.sk-toggleable__label-arrow:before {content: \"▸\";float: left;margin-right: 0.25em;color: #696969;}#sk-container-id-1 label.sk-toggleable__label-arrow:hover:before {color: black;}#sk-container-id-1 div.sk-estimator:hover label.sk-toggleable__label-arrow:before {color: black;}#sk-container-id-1 div.sk-toggleable__content {max-height: 0;max-width: 0;overflow: hidden;text-align: left;background-color: #f0f8ff;}#sk-container-id-1 div.sk-toggleable__content pre {margin: 0.2em;color: black;border-radius: 0.25em;background-color: #f0f8ff;}#sk-container-id-1 input.sk-toggleable__control:checked~div.sk-toggleable__content {max-height: 200px;max-width: 100%;overflow: auto;}#sk-container-id-1 input.sk-toggleable__control:checked~label.sk-toggleable__label-arrow:before {content: \"▾\";}#sk-container-id-1 div.sk-estimator input.sk-toggleable__control:checked~label.sk-toggleable__label {background-color: #d4ebff;}#sk-container-id-1 div.sk-label input.sk-toggleable__control:checked~label.sk-toggleable__label {background-color: #d4ebff;}#sk-container-id-1 input.sk-hidden--visually {border: 0;clip: rect(1px 1px 1px 1px);clip: rect(1px, 1px, 1px, 1px);height: 1px;margin: -1px;overflow: hidden;padding: 0;position: absolute;width: 1px;}#sk-container-id-1 div.sk-estimator {font-family: monospace;background-color: #f0f8ff;border: 1px dotted black;border-radius: 0.25em;box-sizing: border-box;margin-bottom: 0.5em;}#sk-container-id-1 div.sk-estimator:hover {background-color: #d4ebff;}#sk-container-id-1 div.sk-parallel-item::after {content: \"\";width: 100%;border-bottom: 1px solid gray;flex-grow: 1;}#sk-container-id-1 div.sk-label:hover label.sk-toggleable__label {background-color: #d4ebff;}#sk-container-id-1 div.sk-serial::before {content: \"\";position: absolute;border-left: 1px solid gray;box-sizing: border-box;top: 0;bottom: 0;left: 50%;z-index: 0;}#sk-container-id-1 div.sk-serial {display: flex;flex-direction: column;align-items: center;background-color: white;padding-right: 0.2em;padding-left: 0.2em;position: relative;}#sk-container-id-1 div.sk-item {position: relative;z-index: 1;}#sk-container-id-1 div.sk-parallel {display: flex;align-items: stretch;justify-content: center;background-color: white;position: relative;}#sk-container-id-1 div.sk-item::before, #sk-container-id-1 div.sk-parallel-item::before {content: \"\";position: absolute;border-left: 1px solid gray;box-sizing: border-box;top: 0;bottom: 0;left: 50%;z-index: -1;}#sk-container-id-1 div.sk-parallel-item {display: flex;flex-direction: column;z-index: 1;position: relative;background-color: white;}#sk-container-id-1 div.sk-parallel-item:first-child::after {align-self: flex-end;width: 50%;}#sk-container-id-1 div.sk-parallel-item:last-child::after {align-self: flex-start;width: 50%;}#sk-container-id-1 div.sk-parallel-item:only-child::after {width: 0;}#sk-container-id-1 div.sk-dashed-wrapped {border: 1px dashed gray;margin: 0 0.4em 0.5em 0.4em;box-sizing: border-box;padding-bottom: 0.4em;background-color: white;}#sk-container-id-1 div.sk-label label {font-family: monospace;font-weight: bold;display: inline-block;line-height: 1.2em;}#sk-container-id-1 div.sk-label-container {text-align: center;}#sk-container-id-1 div.sk-container {/* jupyter's `normalize.less` sets `[hidden] { display: none; }` but bootstrap.min.css set `[hidden] { display: none !important; }` so we also need the `!important` here to be able to override the default hidden behavior on the sphinx rendered scikit-learn.org. See: https://github.com/scikit-learn/scikit-learn/issues/21755 */display: inline-block !important;position: relative;}#sk-container-id-1 div.sk-text-repr-fallback {display: none;}</style><div id=\"sk-container-id-1\" class=\"sk-top-container\"><div class=\"sk-text-repr-fallback\"><pre>Lasso(alpha=0)</pre><b>In a Jupyter environment, please rerun this cell to show the HTML representation or trust the notebook. <br />On GitHub, the HTML representation is unable to render, please try loading this page with nbviewer.org.</b></div><div class=\"sk-container\" hidden><div class=\"sk-item\"><div class=\"sk-estimator sk-toggleable\"><input class=\"sk-toggleable__control sk-hidden--visually\" id=\"sk-estimator-id-1\" type=\"checkbox\" checked><label for=\"sk-estimator-id-1\" class=\"sk-toggleable__label sk-toggleable__label-arrow\">Lasso</label><div class=\"sk-toggleable__content\"><pre>Lasso(alpha=0)</pre></div></div></div></div></div>"
      ],
      "text/plain": [
       "Lasso(alpha=0)"
      ]
     },
     "execution_count": 48,
     "metadata": {},
     "output_type": "execute_result"
    }
   ],
   "source": [
    "model_lasso = Lasso(alpha = 0, max_iter = 1000)\n",
    "model_lasso.fit(predictors, y)"
   ]
  },
  {
   "cell_type": "code",
   "execution_count": 49,
   "id": "b3540b78-9311-4fd6-b083-8932755b98e4",
   "metadata": {},
   "outputs": [
    {
     "name": "stdout",
     "output_type": "stream",
     "text": [
      "-4.037229728394959e-18\n"
     ]
    },
    {
     "data": {
      "text/html": [
       "<div>\n",
       "<style scoped>\n",
       "    .dataframe tbody tr th:only-of-type {\n",
       "        vertical-align: middle;\n",
       "    }\n",
       "\n",
       "    .dataframe tbody tr th {\n",
       "        vertical-align: top;\n",
       "    }\n",
       "\n",
       "    .dataframe thead th {\n",
       "        text-align: right;\n",
       "    }\n",
       "</style>\n",
       "<table border=\"1\" class=\"dataframe\">\n",
       "  <thead>\n",
       "    <tr style=\"text-align: right;\">\n",
       "      <th></th>\n",
       "      <th>coef</th>\n",
       "    </tr>\n",
       "  </thead>\n",
       "  <tbody>\n",
       "    <tr>\n",
       "      <th>iy</th>\n",
       "      <td>0.001954</td>\n",
       "    </tr>\n",
       "    <tr>\n",
       "      <th>cpi</th>\n",
       "      <td>-0.047665</td>\n",
       "    </tr>\n",
       "    <tr>\n",
       "      <th>bond_rate</th>\n",
       "      <td>0.007564</td>\n",
       "    </tr>\n",
       "    <tr>\n",
       "      <th>pop</th>\n",
       "      <td>0.013841</td>\n",
       "    </tr>\n",
       "    <tr>\n",
       "      <th>unemp</th>\n",
       "      <td>0.038292</td>\n",
       "    </tr>\n",
       "    <tr>\n",
       "      <th>imports</th>\n",
       "      <td>1.181164</td>\n",
       "    </tr>\n",
       "    <tr>\n",
       "      <th>exports</th>\n",
       "      <td>-0.196231</td>\n",
       "    </tr>\n",
       "    <tr>\n",
       "      <th>eq_dp</th>\n",
       "      <td>0.003546</td>\n",
       "    </tr>\n",
       "  </tbody>\n",
       "</table>\n",
       "</div>"
      ],
      "text/plain": [
       "               coef\n",
       "iy         0.001954\n",
       "cpi       -0.047665\n",
       "bond_rate  0.007564\n",
       "pop        0.013841\n",
       "unemp      0.038292\n",
       "imports    1.181164\n",
       "exports   -0.196231\n",
       "eq_dp      0.003546"
      ]
     },
     "execution_count": 49,
     "metadata": {},
     "output_type": "execute_result"
    }
   ],
   "source": [
    "df_slope = pd.DataFrame({'coef':model_lasso.coef_.T}, index = predictors.columns)\n",
    "print(model_lasso.intercept_)\n",
    "df_slope"
   ]
  },
  {
   "cell_type": "code",
   "execution_count": 50,
   "id": "893307d2-ca57-47ef-b9f5-fc7a7d6d6ee4",
   "metadata": {},
   "outputs": [
    {
     "data": {
      "text/plain": [
       "0.9678891662912288"
      ]
     },
     "execution_count": 50,
     "metadata": {},
     "output_type": "execute_result"
    }
   ],
   "source": [
    "y_pred3 = model_lasso.predict(predictors)\n",
    "r2 = r2_score(y, y_pred3)\n",
    "r2"
   ]
  },
  {
   "cell_type": "markdown",
   "id": "2a43f4d0-dbde-4e6a-a06d-ccf328084751",
   "metadata": {},
   "source": [
    "Thus, for lasso model, we have test r2 which is 0.9678891662912288"
   ]
  },
  {
   "cell_type": "markdown",
   "id": "96c68280-2e68-4a52-a73a-282cbc49460c",
   "metadata": {},
   "source": [
    "# Random Forest, Cross validation and KFold"
   ]
  },
  {
   "cell_type": "code",
   "execution_count": 51,
   "id": "341776ad-ecf5-40cb-bdbe-bea2ce73b766",
   "metadata": {},
   "outputs": [],
   "source": [
    "from sklearn.model_selection import train_test_split\n",
    "from sklearn.ensemble import RandomForestClassifier  \n",
    "from sklearn.ensemble import RandomForestRegressor   \n",
    "from sklearn.metrics import accuracy_score\n",
    "from sklearn.metrics import mean_squared_error"
   ]
  },
  {
   "cell_type": "code",
   "execution_count": 52,
   "id": "e08ab733-b61b-41dd-8b1a-21897220de15",
   "metadata": {},
   "outputs": [],
   "source": [
    "y_test = df_test['gdp']\n",
    "y_train = df_train['gdp']\n",
    "x_test = df_test.drop(['gdp'], axis = 1)\n",
    "x_train = df_train.drop(['gdp'], axis = 1)"
   ]
  },
  {
   "cell_type": "code",
   "execution_count": 53,
   "id": "0f7c7a37-899d-4bd7-b879-80a9b35707c7",
   "metadata": {},
   "outputs": [
    {
     "data": {
      "text/plain": [
       "[1,\n",
       " 2,\n",
       " 3,\n",
       " 4,\n",
       " 5,\n",
       " 6,\n",
       " 7,\n",
       " 8,\n",
       " 9,\n",
       " 10,\n",
       " 11,\n",
       " 12,\n",
       " 13,\n",
       " 14,\n",
       " 15,\n",
       " 16,\n",
       " 17,\n",
       " 18,\n",
       " 19,\n",
       " 20,\n",
       " 21,\n",
       " 22,\n",
       " 23,\n",
       " 24,\n",
       " 25,\n",
       " 26,\n",
       " 27,\n",
       " 28,\n",
       " 29,\n",
       " 30]"
      ]
     },
     "execution_count": 53,
     "metadata": {},
     "output_type": "execute_result"
    }
   ],
   "source": [
    "n_estimators_options = []\n",
    "for n in np.arange(1, 31, 1):\n",
    "    n_estimators_options.append(n)\n",
    "n_estimators_options"
   ]
  },
  {
   "cell_type": "code",
   "execution_count": 54,
   "id": "79fe11ce-8f89-4703-a53c-cdd4fd4a31e8",
   "metadata": {},
   "outputs": [
    {
     "name": "stdout",
     "output_type": "stream",
     "text": [
      "n_estimators=1: Cross-Validation Accuracy = 0.9475845672876755\n",
      "n_estimators=2: Cross-Validation Accuracy = 0.9720177221718819\n",
      "n_estimators=3: Cross-Validation Accuracy = 0.9757700196255661\n",
      "n_estimators=4: Cross-Validation Accuracy = 0.980957283129096\n",
      "n_estimators=5: Cross-Validation Accuracy = 0.9810042429701726\n",
      "n_estimators=6: Cross-Validation Accuracy = 0.9825294659639526\n",
      "n_estimators=7: Cross-Validation Accuracy = 0.9822742386445643\n",
      "n_estimators=8: Cross-Validation Accuracy = 0.9835856858953738\n",
      "n_estimators=9: Cross-Validation Accuracy = 0.9836239571358429\n",
      "n_estimators=10: Cross-Validation Accuracy = 0.983518937661008\n",
      "n_estimators=11: Cross-Validation Accuracy = 0.9853322070284373\n",
      "n_estimators=12: Cross-Validation Accuracy = 0.9861482442567298\n",
      "n_estimators=13: Cross-Validation Accuracy = 0.9854343082524663\n",
      "n_estimators=14: Cross-Validation Accuracy = 0.9858156330647938\n",
      "n_estimators=15: Cross-Validation Accuracy = 0.9859824501969079\n",
      "n_estimators=16: Cross-Validation Accuracy = 0.9862255207122554\n",
      "n_estimators=17: Cross-Validation Accuracy = 0.9865910173113992\n",
      "n_estimators=18: Cross-Validation Accuracy = 0.9859583306199141\n",
      "n_estimators=19: Cross-Validation Accuracy = 0.9867054967839772\n",
      "n_estimators=20: Cross-Validation Accuracy = 0.9877540828184849\n",
      "n_estimators=21: Cross-Validation Accuracy = 0.9872673287740208\n",
      "n_estimators=22: Cross-Validation Accuracy = 0.9869645387379145\n",
      "n_estimators=23: Cross-Validation Accuracy = 0.9864999633566771\n",
      "n_estimators=24: Cross-Validation Accuracy = 0.9864183096543716\n",
      "n_estimators=25: Cross-Validation Accuracy = 0.9863448871982244\n",
      "n_estimators=26: Cross-Validation Accuracy = 0.9861204066113579\n",
      "n_estimators=27: Cross-Validation Accuracy = 0.986431626294204\n",
      "n_estimators=28: Cross-Validation Accuracy = 0.9860613850020037\n",
      "n_estimators=29: Cross-Validation Accuracy = 0.9862610342906656\n",
      "n_estimators=30: Cross-Validation Accuracy = 0.9863173984106488\n"
     ]
    }
   ],
   "source": [
    "scores = []\n",
    "for trees in n_estimators_options:\n",
    "    model_forest = RandomForestRegressor(n_estimators=trees, random_state=42)\n",
    "    model_score = cross_val_score(model_forest, x_train, y_train, cv=5).mean()  \n",
    "    scores.append(model_score)\n",
    "    print(f\"n_estimators={trees}: Cross-Validation Accuracy = {model_score}\")"
   ]
  },
  {
   "cell_type": "code",
   "execution_count": 55,
   "id": "c58c5414-30b3-4673-8232-2a8f3f8688db",
   "metadata": {},
   "outputs": [
    {
     "data": {
      "image/png": "[encoded data removed]",
      "text/plain": [
       "<Figure size 1000x600 with 1 Axes>"
      ]
     },
     "metadata": {},
     "output_type": "display_data"
    }
   ],
   "source": [
    "plt.figure(figsize=(10, 6))\n",
    "plt.plot(n_estimators_options, scores, marker='o')\n",
    "plt.xlabel('Number of Trees (n_estimators)')\n",
    "plt.ylabel('CV Accuracy')\n",
    "plt.title('Effect of n_estimators on Model Accuracy')\n",
    "plt.grid(True)\n",
    "plt.show()"
   ]
  },
  {
   "cell_type": "code",
   "execution_count": 56,
   "id": "c9c8c6e6-7068-4f8f-84a7-26f81b5753ea",
   "metadata": {},
   "outputs": [
    {
     "data": {
      "text/html": [
       "<style>#sk-container-id-2 {color: black;}#sk-container-id-2 pre{padding: 0;}#sk-container-id-2 div.sk-toggleable {background-color: white;}#sk-container-id-2 label.sk-toggleable__label {cursor: pointer;display: block;width: 100%;margin-bottom: 0;padding: 0.3em;box-sizing: border-box;text-align: center;}#sk-container-id-2 label.sk-toggleable__label-arrow:before {content: \"▸\";float: left;margin-right: 0.25em;color: #696969;}#sk-container-id-2 label.sk-toggleable__label-arrow:hover:before {color: black;}#sk-container-id-2 div.sk-estimator:hover label.sk-toggleable__label-arrow:before {color: black;}#sk-container-id-2 div.sk-toggleable__content {max-height: 0;max-width: 0;overflow: hidden;text-align: left;background-color: #f0f8ff;}#sk-container-id-2 div.sk-toggleable__content pre {margin: 0.2em;color: black;border-radius: 0.25em;background-color: #f0f8ff;}#sk-container-id-2 input.sk-toggleable__control:checked~div.sk-toggleable__content {max-height: 200px;max-width: 100%;overflow: auto;}#sk-container-id-2 input.sk-toggleable__control:checked~label.sk-toggleable__label-arrow:before {content: \"▾\";}#sk-container-id-2 div.sk-estimator input.sk-toggleable__control:checked~label.sk-toggleable__label {background-color: #d4ebff;}#sk-container-id-2 div.sk-label input.sk-toggleable__control:checked~label.sk-toggleable__label {background-color: #d4ebff;}#sk-container-id-2 input.sk-hidden--visually {border: 0;clip: rect(1px 1px 1px 1px);clip: rect(1px, 1px, 1px, 1px);height: 1px;margin: -1px;overflow: hidden;padding: 0;position: absolute;width: 1px;}#sk-container-id-2 div.sk-estimator {font-family: monospace;background-color: #f0f8ff;border: 1px dotted black;border-radius: 0.25em;box-sizing: border-box;margin-bottom: 0.5em;}#sk-container-id-2 div.sk-estimator:hover {background-color: #d4ebff;}#sk-container-id-2 div.sk-parallel-item::after {content: \"\";width: 100%;border-bottom: 1px solid gray;flex-grow: 1;}#sk-container-id-2 div.sk-label:hover label.sk-toggleable__label {background-color: #d4ebff;}#sk-container-id-2 div.sk-serial::before {content: \"\";position: absolute;border-left: 1px solid gray;box-sizing: border-box;top: 0;bottom: 0;left: 50%;z-index: 0;}#sk-container-id-2 div.sk-serial {display: flex;flex-direction: column;align-items: center;background-color: white;padding-right: 0.2em;padding-left: 0.2em;position: relative;}#sk-container-id-2 div.sk-item {position: relative;z-index: 1;}#sk-container-id-2 div.sk-parallel {display: flex;align-items: stretch;justify-content: center;background-color: white;position: relative;}#sk-container-id-2 div.sk-item::before, #sk-container-id-2 div.sk-parallel-item::before {content: \"\";position: absolute;border-left: 1px solid gray;box-sizing: border-box;top: 0;bottom: 0;left: 50%;z-index: -1;}#sk-container-id-2 div.sk-parallel-item {display: flex;flex-direction: column;z-index: 1;position: relative;background-color: white;}#sk-container-id-2 div.sk-parallel-item:first-child::after {align-self: flex-end;width: 50%;}#sk-container-id-2 div.sk-parallel-item:last-child::after {align-self: flex-start;width: 50%;}#sk-container-id-2 div.sk-parallel-item:only-child::after {width: 0;}#sk-container-id-2 div.sk-dashed-wrapped {border: 1px dashed gray;margin: 0 0.4em 0.5em 0.4em;box-sizing: border-box;padding-bottom: 0.4em;background-color: white;}#sk-container-id-2 div.sk-label label {font-family: monospace;font-weight: bold;display: inline-block;line-height: 1.2em;}#sk-container-id-2 div.sk-label-container {text-align: center;}#sk-container-id-2 div.sk-container {/* jupyter's `normalize.less` sets `[hidden] { display: none; }` but bootstrap.min.css set `[hidden] { display: none !important; }` so we also need the `!important` here to be able to override the default hidden behavior on the sphinx rendered scikit-learn.org. See: https://github.com/scikit-learn/scikit-learn/issues/21755 */display: inline-block !important;position: relative;}#sk-container-id-2 div.sk-text-repr-fallback {display: none;}</style><div id=\"sk-container-id-2\" class=\"sk-top-container\"><div class=\"sk-text-repr-fallback\"><pre>RandomForestRegressor(n_estimators=20, random_state=42)</pre><b>In a Jupyter environment, please rerun this cell to show the HTML representation or trust the notebook. <br />On GitHub, the HTML representation is unable to render, please try loading this page with nbviewer.org.</b></div><div class=\"sk-container\" hidden><div class=\"sk-item\"><div class=\"sk-estimator sk-toggleable\"><input class=\"sk-toggleable__control sk-hidden--visually\" id=\"sk-estimator-id-2\" type=\"checkbox\" checked><label for=\"sk-estimator-id-2\" class=\"sk-toggleable__label sk-toggleable__label-arrow\">RandomForestRegressor</label><div class=\"sk-toggleable__content\"><pre>RandomForestRegressor(n_estimators=20, random_state=42)</pre></div></div></div></div></div>"
      ],
      "text/plain": [
       "RandomForestRegressor(n_estimators=20, random_state=42)"
      ]
     },
     "execution_count": 56,
     "metadata": {},
     "output_type": "execute_result"
    }
   ],
   "source": [
    "model_forest = RandomForestRegressor(n_estimators=20, random_state=42)  \n",
    "model_forest.fit(x_train, y_train)"
   ]
  },
  {
   "cell_type": "code",
   "execution_count": 57,
   "id": "4abbed12-8e28-4e62-a584-f0b047cecbac",
   "metadata": {},
   "outputs": [
    {
     "name": "stdout",
     "output_type": "stream",
     "text": [
      "Mean Squared Error: 0.05141886725516492\n",
      "r square: 0.9569966535868509\n"
     ]
    }
   ],
   "source": [
    "y_pred = model_forest.predict(x_test)\n",
    "mse = mean_squared_error(y_test, y_pred)\n",
    "print(\"Mean Squared Error:\", mse)\n",
    "r2_rf1 = r2_score(y_test, y_pred)\n",
    "print(\"r square:\", r2_rf1)"
   ]
  },
  {
   "cell_type": "markdown",
   "id": "117ce9b7-6300-42fd-94ca-f479cb1dab0c",
   "metadata": {},
   "source": [
    "Thus, for random forest and kfold, we have test r2 which is 0.9569966535868509 and test mse which is 0.05141886725516492"
   ]
  },
  {
   "cell_type": "markdown",
   "id": "87116ecc-adbd-4a9d-8b60-4371e4c0d9a4",
   "metadata": {},
   "source": [
    "# Apply PCA in model of random forest"
   ]
  },
  {
   "cell_type": "code",
   "execution_count": 58,
   "id": "47d1a866-0e47-4dcf-853f-45991d8e1764",
   "metadata": {},
   "outputs": [],
   "source": [
    "from sklearn.pipeline import Pipeline\n",
    "from sklearn.decomposition import PCA"
   ]
  },
  {
   "cell_type": "code",
   "execution_count": 59,
   "id": "7e09b2be-d123-4628-b153-e2e64bd34efe",
   "metadata": {},
   "outputs": [],
   "source": [
    "pca = PCA(n_components=5) # reduce original model to 5 components"
   ]
  },
  {
   "cell_type": "code",
   "execution_count": 60,
   "id": "3d51416b-62d7-4a30-b541-32c4a0550cd4",
   "metadata": {},
   "outputs": [],
   "source": [
    "model = RandomForestRegressor(random_state=99)\n",
    "pipeline = Pipeline([\n",
    "    ('pca', pca),\n",
    "    ('regressor', model)\n",
    "])"
   ]
  },
  {
   "cell_type": "code",
   "execution_count": 61,
   "id": "ebe9b2c5-c968-4ebc-85c4-57af3d92d263",
   "metadata": {},
   "outputs": [
    {
     "data": {
      "text/html": [
       "<style>#sk-container-id-3 {color: black;}#sk-container-id-3 pre{padding: 0;}#sk-container-id-3 div.sk-toggleable {background-color: white;}#sk-container-id-3 label.sk-toggleable__label {cursor: pointer;display: block;width: 100%;margin-bottom: 0;padding: 0.3em;box-sizing: border-box;text-align: center;}#sk-container-id-3 label.sk-toggleable__label-arrow:before {content: \"▸\";float: left;margin-right: 0.25em;color: #696969;}#sk-container-id-3 label.sk-toggleable__label-arrow:hover:before {color: black;}#sk-container-id-3 div.sk-estimator:hover label.sk-toggleable__label-arrow:before {color: black;}#sk-container-id-3 div.sk-toggleable__content {max-height: 0;max-width: 0;overflow: hidden;text-align: left;background-color: #f0f8ff;}#sk-container-id-3 div.sk-toggleable__content pre {margin: 0.2em;color: black;border-radius: 0.25em;background-color: #f0f8ff;}#sk-container-id-3 input.sk-toggleable__control:checked~div.sk-toggleable__content {max-height: 200px;max-width: 100%;overflow: auto;}#sk-container-id-3 input.sk-toggleable__control:checked~label.sk-toggleable__label-arrow:before {content: \"▾\";}#sk-container-id-3 div.sk-estimator input.sk-toggleable__control:checked~label.sk-toggleable__label {background-color: #d4ebff;}#sk-container-id-3 div.sk-label input.sk-toggleable__control:checked~label.sk-toggleable__label {background-color: #d4ebff;}#sk-container-id-3 input.sk-hidden--visually {border: 0;clip: rect(1px 1px 1px 1px);clip: rect(1px, 1px, 1px, 1px);height: 1px;margin: -1px;overflow: hidden;padding: 0;position: absolute;width: 1px;}#sk-container-id-3 div.sk-estimator {font-family: monospace;background-color: #f0f8ff;border: 1px dotted black;border-radius: 0.25em;box-sizing: border-box;margin-bottom: 0.5em;}#sk-container-id-3 div.sk-estimator:hover {background-color: #d4ebff;}#sk-container-id-3 div.sk-parallel-item::after {content: \"\";width: 100%;border-bottom: 1px solid gray;flex-grow: 1;}#sk-container-id-3 div.sk-label:hover label.sk-toggleable__label {background-color: #d4ebff;}#sk-container-id-3 div.sk-serial::before {content: \"\";position: absolute;border-left: 1px solid gray;box-sizing: border-box;top: 0;bottom: 0;left: 50%;z-index: 0;}#sk-container-id-3 div.sk-serial {display: flex;flex-direction: column;align-items: center;background-color: white;padding-right: 0.2em;padding-left: 0.2em;position: relative;}#sk-container-id-3 div.sk-item {position: relative;z-index: 1;}#sk-container-id-3 div.sk-parallel {display: flex;align-items: stretch;justify-content: center;background-color: white;position: relative;}#sk-container-id-3 div.sk-item::before, #sk-container-id-3 div.sk-parallel-item::before {content: \"\";position: absolute;border-left: 1px solid gray;box-sizing: border-box;top: 0;bottom: 0;left: 50%;z-index: -1;}#sk-container-id-3 div.sk-parallel-item {display: flex;flex-direction: column;z-index: 1;position: relative;background-color: white;}#sk-container-id-3 div.sk-parallel-item:first-child::after {align-self: flex-end;width: 50%;}#sk-container-id-3 div.sk-parallel-item:last-child::after {align-self: flex-start;width: 50%;}#sk-container-id-3 div.sk-parallel-item:only-child::after {width: 0;}#sk-container-id-3 div.sk-dashed-wrapped {border: 1px dashed gray;margin: 0 0.4em 0.5em 0.4em;box-sizing: border-box;padding-bottom: 0.4em;background-color: white;}#sk-container-id-3 div.sk-label label {font-family: monospace;font-weight: bold;display: inline-block;line-height: 1.2em;}#sk-container-id-3 div.sk-label-container {text-align: center;}#sk-container-id-3 div.sk-container {/* jupyter's `normalize.less` sets `[hidden] { display: none; }` but bootstrap.min.css set `[hidden] { display: none !important; }` so we also need the `!important` here to be able to override the default hidden behavior on the sphinx rendered scikit-learn.org. See: https://github.com/scikit-learn/scikit-learn/issues/21755 */display: inline-block !important;position: relative;}#sk-container-id-3 div.sk-text-repr-fallback {display: none;}</style><div id=\"sk-container-id-3\" class=\"sk-top-container\"><div class=\"sk-text-repr-fallback\"><pre>Pipeline(steps=[(&#x27;pca&#x27;, PCA(n_components=5)),\n",
       "                (&#x27;regressor&#x27;, RandomForestRegressor(random_state=99))])</pre><b>In a Jupyter environment, please rerun this cell to show the HTML representation or trust the notebook. <br />On GitHub, the HTML representation is unable to render, please try loading this page with nbviewer.org.</b></div><div class=\"sk-container\" hidden><div class=\"sk-item sk-dashed-wrapped\"><div class=\"sk-label-container\"><div class=\"sk-label sk-toggleable\"><input class=\"sk-toggleable__control sk-hidden--visually\" id=\"sk-estimator-id-3\" type=\"checkbox\" ><label for=\"sk-estimator-id-3\" class=\"sk-toggleable__label sk-toggleable__label-arrow\">Pipeline</label><div class=\"sk-toggleable__content\"><pre>Pipeline(steps=[(&#x27;pca&#x27;, PCA(n_components=5)),\n",
       "                (&#x27;regressor&#x27;, RandomForestRegressor(random_state=99))])</pre></div></div></div><div class=\"sk-serial\"><div class=\"sk-item\"><div class=\"sk-estimator sk-toggleable\"><input class=\"sk-toggleable__control sk-hidden--visually\" id=\"sk-estimator-id-4\" type=\"checkbox\" ><label for=\"sk-estimator-id-4\" class=\"sk-toggleable__label sk-toggleable__label-arrow\">PCA</label><div class=\"sk-toggleable__content\"><pre>PCA(n_components=5)</pre></div></div></div><div class=\"sk-item\"><div class=\"sk-estimator sk-toggleable\"><input class=\"sk-toggleable__control sk-hidden--visually\" id=\"sk-estimator-id-5\" type=\"checkbox\" ><label for=\"sk-estimator-id-5\" class=\"sk-toggleable__label sk-toggleable__label-arrow\">RandomForestRegressor</label><div class=\"sk-toggleable__content\"><pre>RandomForestRegressor(random_state=99)</pre></div></div></div></div></div></div></div>"
      ],
      "text/plain": [
       "Pipeline(steps=[('pca', PCA(n_components=5)),\n",
       "                ('regressor', RandomForestRegressor(random_state=99))])"
      ]
     },
     "execution_count": 61,
     "metadata": {},
     "output_type": "execute_result"
    }
   ],
   "source": [
    "pipeline.fit(x_train, y_train)"
   ]
  },
  {
   "cell_type": "code",
   "execution_count": 62,
   "id": "d4fa3371-10ec-41ff-bb2e-1795cc514629",
   "metadata": {},
   "outputs": [
    {
     "name": "stdout",
     "output_type": "stream",
     "text": [
      "Mean Squared Error: 0.011654947472006918\n",
      "r square: 0.9902525712774152\n"
     ]
    }
   ],
   "source": [
    "y_pred2 = pipeline.predict(x_test)\n",
    "mse2 = mean_squared_error(y_test, y_pred2)\n",
    "print(\"Mean Squared Error:\", mse2)\n",
    "r2_rf2 = r2_score(y_test, y_pred2)\n",
    "print(\"r square:\", r2_rf2)"
   ]
  },
  {
   "cell_type": "markdown",
   "id": "ddcadc50-1391-468f-84a3-cbbb63a8e56c",
   "metadata": {},
   "source": [
    "Thus, for PCA and random forest, we have test r2 which is 0.9902525712774152, and test mse which is 0.011654947472006918"
   ]
  },
  {
   "cell_type": "markdown",
   "id": "8b79caf8-9087-4156-850b-6aaded7b52a7",
   "metadata": {},
   "source": [
    "# PCA and Support Vector Regression (SVR)"
   ]
  },
  {
   "cell_type": "code",
   "execution_count": 63,
   "id": "9bfeaff7-a542-4a5d-bd31-154ecd331d6c",
   "metadata": {},
   "outputs": [],
   "source": [
    "from sklearn.svm import SVR"
   ]
  },
  {
   "cell_type": "code",
   "execution_count": 64,
   "id": "7304b589-cb53-4529-98c9-5ef9d96dec6d",
   "metadata": {},
   "outputs": [
    {
     "data": {
      "text/plain": [
       "(array([0.38193528, 0.17640639, 0.1523448 , 0.09900811, 0.0764241 ,\n",
       "        0.06791244, 0.04242539, 0.00297413, 0.00056936]),\n",
       " array([0.38193528, 0.55834167, 0.71068647, 0.80969458, 0.88611868,\n",
       "        0.95403112, 0.99645651, 0.99943064, 1.        ]))"
      ]
     },
     "execution_count": 64,
     "metadata": {},
     "output_type": "execute_result"
    }
   ],
   "source": [
    "pca = PCA(n_components=None)  \n",
    "pca.fit(df_choose)\n",
    "ea_ratio = pca.explained_variance_ratio_\n",
    "cu_v = np.cumsum(ea_ratio)\n",
    "ea_ratio, cu_v"
   ]
  },
  {
   "cell_type": "code",
   "execution_count": 65,
   "id": "ceceac74-9649-44bb-92c7-f2481ce788c7",
   "metadata": {},
   "outputs": [],
   "source": [
    "n_components = np.where(cu_v > 0.9)[0][0] + 1"
   ]
  },
  {
   "cell_type": "code",
   "execution_count": 66,
   "id": "07a9ea3a-0a58-49fb-a1d9-93ceee1c4269",
   "metadata": {},
   "outputs": [
    {
     "data": {
      "text/html": [
       "<style>#sk-container-id-4 {color: black;}#sk-container-id-4 pre{padding: 0;}#sk-container-id-4 div.sk-toggleable {background-color: white;}#sk-container-id-4 label.sk-toggleable__label {cursor: pointer;display: block;width: 100%;margin-bottom: 0;padding: 0.3em;box-sizing: border-box;text-align: center;}#sk-container-id-4 label.sk-toggleable__label-arrow:before {content: \"▸\";float: left;margin-right: 0.25em;color: #696969;}#sk-container-id-4 label.sk-toggleable__label-arrow:hover:before {color: black;}#sk-container-id-4 div.sk-estimator:hover label.sk-toggleable__label-arrow:before {color: black;}#sk-container-id-4 div.sk-toggleable__content {max-height: 0;max-width: 0;overflow: hidden;text-align: left;background-color: #f0f8ff;}#sk-container-id-4 div.sk-toggleable__content pre {margin: 0.2em;color: black;border-radius: 0.25em;background-color: #f0f8ff;}#sk-container-id-4 input.sk-toggleable__control:checked~div.sk-toggleable__content {max-height: 200px;max-width: 100%;overflow: auto;}#sk-container-id-4 input.sk-toggleable__control:checked~label.sk-toggleable__label-arrow:before {content: \"▾\";}#sk-container-id-4 div.sk-estimator input.sk-toggleable__control:checked~label.sk-toggleable__label {background-color: #d4ebff;}#sk-container-id-4 div.sk-label input.sk-toggleable__control:checked~label.sk-toggleable__label {background-color: #d4ebff;}#sk-container-id-4 input.sk-hidden--visually {border: 0;clip: rect(1px 1px 1px 1px);clip: rect(1px, 1px, 1px, 1px);height: 1px;margin: -1px;overflow: hidden;padding: 0;position: absolute;width: 1px;}#sk-container-id-4 div.sk-estimator {font-family: monospace;background-color: #f0f8ff;border: 1px dotted black;border-radius: 0.25em;box-sizing: border-box;margin-bottom: 0.5em;}#sk-container-id-4 div.sk-estimator:hover {background-color: #d4ebff;}#sk-container-id-4 div.sk-parallel-item::after {content: \"\";width: 100%;border-bottom: 1px solid gray;flex-grow: 1;}#sk-container-id-4 div.sk-label:hover label.sk-toggleable__label {background-color: #d4ebff;}#sk-container-id-4 div.sk-serial::before {content: \"\";position: absolute;border-left: 1px solid gray;box-sizing: border-box;top: 0;bottom: 0;left: 50%;z-index: 0;}#sk-container-id-4 div.sk-serial {display: flex;flex-direction: column;align-items: center;background-color: white;padding-right: 0.2em;padding-left: 0.2em;position: relative;}#sk-container-id-4 div.sk-item {position: relative;z-index: 1;}#sk-container-id-4 div.sk-parallel {display: flex;align-items: stretch;justify-content: center;background-color: white;position: relative;}#sk-container-id-4 div.sk-item::before, #sk-container-id-4 div.sk-parallel-item::before {content: \"\";position: absolute;border-left: 1px solid gray;box-sizing: border-box;top: 0;bottom: 0;left: 50%;z-index: -1;}#sk-container-id-4 div.sk-parallel-item {display: flex;flex-direction: column;z-index: 1;position: relative;background-color: white;}#sk-container-id-4 div.sk-parallel-item:first-child::after {align-self: flex-end;width: 50%;}#sk-container-id-4 div.sk-parallel-item:last-child::after {align-self: flex-start;width: 50%;}#sk-container-id-4 div.sk-parallel-item:only-child::after {width: 0;}#sk-container-id-4 div.sk-dashed-wrapped {border: 1px dashed gray;margin: 0 0.4em 0.5em 0.4em;box-sizing: border-box;padding-bottom: 0.4em;background-color: white;}#sk-container-id-4 div.sk-label label {font-family: monospace;font-weight: bold;display: inline-block;line-height: 1.2em;}#sk-container-id-4 div.sk-label-container {text-align: center;}#sk-container-id-4 div.sk-container {/* jupyter's `normalize.less` sets `[hidden] { display: none; }` but bootstrap.min.css set `[hidden] { display: none !important; }` so we also need the `!important` here to be able to override the default hidden behavior on the sphinx rendered scikit-learn.org. See: https://github.com/scikit-learn/scikit-learn/issues/21755 */display: inline-block !important;position: relative;}#sk-container-id-4 div.sk-text-repr-fallback {display: none;}</style><div id=\"sk-container-id-4\" class=\"sk-top-container\"><div class=\"sk-text-repr-fallback\"><pre>SVR()</pre><b>In a Jupyter environment, please rerun this cell to show the HTML representation or trust the notebook. <br />On GitHub, the HTML representation is unable to render, please try loading this page with nbviewer.org.</b></div><div class=\"sk-container\" hidden><div class=\"sk-item\"><div class=\"sk-estimator sk-toggleable\"><input class=\"sk-toggleable__control sk-hidden--visually\" id=\"sk-estimator-id-6\" type=\"checkbox\" checked><label for=\"sk-estimator-id-6\" class=\"sk-toggleable__label sk-toggleable__label-arrow\">SVR</label><div class=\"sk-toggleable__content\"><pre>SVR()</pre></div></div></div></div></div>"
      ],
      "text/plain": [
       "SVR()"
      ]
     },
     "execution_count": 66,
     "metadata": {},
     "output_type": "execute_result"
    }
   ],
   "source": [
    "svr = SVR(kernel='rbf')\n",
    "svr.fit(x_train, y_train)"
   ]
  },
  {
   "cell_type": "code",
   "execution_count": 67,
   "id": "5bb4086c-c34f-40eb-a9cb-e1e8ba08e346",
   "metadata": {},
   "outputs": [],
   "source": [
    "y_pred4 = svr.predict(x_test)"
   ]
  },
  {
   "cell_type": "code",
   "execution_count": 68,
   "id": "2d17b4f3-10ef-47ee-80bc-0806ff7b1ca1",
   "metadata": {},
   "outputs": [
    {
     "data": {
      "text/plain": [
       "0.5723502611795106"
      ]
     },
     "execution_count": 68,
     "metadata": {},
     "output_type": "execute_result"
    }
   ],
   "source": [
    "r2_svr = r2_score(y_test, y_pred4)\n",
    "r2_svr"
   ]
  },
  {
   "cell_type": "markdown",
   "id": "505c5744-4b32-494c-bd4e-67897ca60766",
   "metadata": {},
   "source": [
    "Thus, we can know the r square of SVR model which base on PCA is 0.5723502611795106"
   ]
  },
  {
   "cell_type": "markdown",
   "id": "847b6d46-6655-47e0-9a8a-5d282a846e6b",
   "metadata": {},
   "source": [
    "# Use K-means clustering to group countries or periods into clusters based on similarities in economic indicators "
   ]
  },
  {
   "cell_type": "code",
   "execution_count": 69,
   "id": "fa6b3e80-7279-477a-b804-abae8c303961",
   "metadata": {},
   "outputs": [],
   "source": [
    "from sklearn.cluster import KMeans"
   ]
  },
  {
   "cell_type": "code",
   "execution_count": 70,
   "id": "9f36a7e9-689d-4986-902b-9ef30dd3793a",
   "metadata": {},
   "outputs": [
    {
     "name": "stderr",
     "output_type": "stream",
     "text": [
      "B:\\miniconda\\Lib\\site-packages\\sklearn\\cluster\\_kmeans.py:1412: FutureWarning: The default value of `n_init` will change from 10 to 'auto' in 1.4. Set the value of `n_init` explicitly to suppress the warning\n",
      "  super()._check_params_vs_input(X, default_n_init=10)\n",
      "B:\\miniconda\\Lib\\site-packages\\sklearn\\cluster\\_kmeans.py:1436: UserWarning: KMeans is known to have a memory leak on Windows with MKL, when there are less chunks than available threads. You can avoid it by setting the environment variable OMP_NUM_THREADS=11.\n",
      "  warnings.warn(\n",
      "B:\\miniconda\\Lib\\site-packages\\sklearn\\cluster\\_kmeans.py:1412: FutureWarning: The default value of `n_init` will change from 10 to 'auto' in 1.4. Set the value of `n_init` explicitly to suppress the warning\n",
      "  super()._check_params_vs_input(X, default_n_init=10)\n",
      "B:\\miniconda\\Lib\\site-packages\\sklearn\\cluster\\_kmeans.py:1436: UserWarning: KMeans is known to have a memory leak on Windows with MKL, when there are less chunks than available threads. You can avoid it by setting the environment variable OMP_NUM_THREADS=11.\n",
      "  warnings.warn(\n",
      "B:\\miniconda\\Lib\\site-packages\\sklearn\\cluster\\_kmeans.py:1412: FutureWarning: The default value of `n_init` will change from 10 to 'auto' in 1.4. Set the value of `n_init` explicitly to suppress the warning\n",
      "  super()._check_params_vs_input(X, default_n_init=10)\n",
      "B:\\miniconda\\Lib\\site-packages\\sklearn\\cluster\\_kmeans.py:1436: UserWarning: KMeans is known to have a memory leak on Windows with MKL, when there are less chunks than available threads. You can avoid it by setting the environment variable OMP_NUM_THREADS=11.\n",
      "  warnings.warn(\n",
      "B:\\miniconda\\Lib\\site-packages\\sklearn\\cluster\\_kmeans.py:1412: FutureWarning: The default value of `n_init` will change from 10 to 'auto' in 1.4. Set the value of `n_init` explicitly to suppress the warning\n",
      "  super()._check_params_vs_input(X, default_n_init=10)\n",
      "B:\\miniconda\\Lib\\site-packages\\sklearn\\cluster\\_kmeans.py:1436: UserWarning: KMeans is known to have a memory leak on Windows with MKL, when there are less chunks than available threads. You can avoid it by setting the environment variable OMP_NUM_THREADS=11.\n",
      "  warnings.warn(\n",
      "B:\\miniconda\\Lib\\site-packages\\sklearn\\cluster\\_kmeans.py:1412: FutureWarning: The default value of `n_init` will change from 10 to 'auto' in 1.4. Set the value of `n_init` explicitly to suppress the warning\n",
      "  super()._check_params_vs_input(X, default_n_init=10)\n",
      "B:\\miniconda\\Lib\\site-packages\\sklearn\\cluster\\_kmeans.py:1436: UserWarning: KMeans is known to have a memory leak on Windows with MKL, when there are less chunks than available threads. You can avoid it by setting the environment variable OMP_NUM_THREADS=11.\n",
      "  warnings.warn(\n",
      "B:\\miniconda\\Lib\\site-packages\\sklearn\\cluster\\_kmeans.py:1412: FutureWarning: The default value of `n_init` will change from 10 to 'auto' in 1.4. Set the value of `n_init` explicitly to suppress the warning\n",
      "  super()._check_params_vs_input(X, default_n_init=10)\n",
      "B:\\miniconda\\Lib\\site-packages\\sklearn\\cluster\\_kmeans.py:1436: UserWarning: KMeans is known to have a memory leak on Windows with MKL, when there are less chunks than available threads. You can avoid it by setting the environment variable OMP_NUM_THREADS=11.\n",
      "  warnings.warn(\n",
      "B:\\miniconda\\Lib\\site-packages\\sklearn\\cluster\\_kmeans.py:1412: FutureWarning: The default value of `n_init` will change from 10 to 'auto' in 1.4. Set the value of `n_init` explicitly to suppress the warning\n",
      "  super()._check_params_vs_input(X, default_n_init=10)\n",
      "B:\\miniconda\\Lib\\site-packages\\sklearn\\cluster\\_kmeans.py:1436: UserWarning: KMeans is known to have a memory leak on Windows with MKL, when there are less chunks than available threads. You can avoid it by setting the environment variable OMP_NUM_THREADS=11.\n",
      "  warnings.warn(\n",
      "B:\\miniconda\\Lib\\site-packages\\sklearn\\cluster\\_kmeans.py:1412: FutureWarning: The default value of `n_init` will change from 10 to 'auto' in 1.4. Set the value of `n_init` explicitly to suppress the warning\n",
      "  super()._check_params_vs_input(X, default_n_init=10)\n",
      "B:\\miniconda\\Lib\\site-packages\\sklearn\\cluster\\_kmeans.py:1436: UserWarning: KMeans is known to have a memory leak on Windows with MKL, when there are less chunks than available threads. You can avoid it by setting the environment variable OMP_NUM_THREADS=11.\n",
      "  warnings.warn(\n",
      "B:\\miniconda\\Lib\\site-packages\\sklearn\\cluster\\_kmeans.py:1412: FutureWarning: The default value of `n_init` will change from 10 to 'auto' in 1.4. Set the value of `n_init` explicitly to suppress the warning\n",
      "  super()._check_params_vs_input(X, default_n_init=10)\n",
      "B:\\miniconda\\Lib\\site-packages\\sklearn\\cluster\\_kmeans.py:1436: UserWarning: KMeans is known to have a memory leak on Windows with MKL, when there are less chunks than available threads. You can avoid it by setting the environment variable OMP_NUM_THREADS=11.\n",
      "  warnings.warn(\n"
     ]
    },
    {
     "data": {
      "image/png": "[encoded data removed]",
      "text/plain": [
       "<Figure size 1000x600 with 1 Axes>"
      ]
     },
     "metadata": {},
     "output_type": "display_data"
    }
   ],
   "source": [
    "k_range = []\n",
    "for v in np.arange(1, 10, 1):\n",
    "    k_range.append(v)\n",
    "\n",
    "sosd = []\n",
    "for k in k_range:\n",
    "    kmeans = KMeans(n_clusters=k, random_state=42)\n",
    "    kmeans.fit(df_choose)\n",
    "    sosd.append(kmeans.inertia_)\n",
    "\n",
    "plt.figure(figsize=(10, 6))\n",
    "plt.plot(k_range, sosd, marker='o')\n",
    "plt.title('Method For Optimal k')\n",
    "plt.xlabel('Number of clusters')\n",
    "plt.ylabel('sosd')\n",
    "plt.grid(True)\n",
    "plt.show()"
   ]
  },
  {
   "cell_type": "code",
   "execution_count": 71,
   "id": "f83cf2cd-ea8f-4f4d-a08b-66a01a185cfe",
   "metadata": {},
   "outputs": [
    {
     "name": "stderr",
     "output_type": "stream",
     "text": [
      "B:\\miniconda\\Lib\\site-packages\\sklearn\\cluster\\_kmeans.py:1412: FutureWarning: The default value of `n_init` will change from 10 to 'auto' in 1.4. Set the value of `n_init` explicitly to suppress the warning\n",
      "  super()._check_params_vs_input(X, default_n_init=10)\n",
      "B:\\miniconda\\Lib\\site-packages\\sklearn\\cluster\\_kmeans.py:1436: UserWarning: KMeans is known to have a memory leak on Windows with MKL, when there are less chunks than available threads. You can avoid it by setting the environment variable OMP_NUM_THREADS=11.\n",
      "  warnings.warn(\n",
      "C:\\Users\\59747\\AppData\\Local\\Temp\\ipykernel_36468\\988954696.py:3: SettingWithCopyWarning: \n",
      "A value is trying to be set on a copy of a slice from a DataFrame.\n",
      "Try using .loc[row_indexer,col_indexer] = value instead\n",
      "\n",
      "See the caveats in the documentation: https://pandas.pydata.org/pandas-docs/stable/user_guide/indexing.html#returning-a-view-versus-a-copy\n",
      "  df_choose['cluster'] = clusters\n"
     ]
    }
   ],
   "source": [
    "kmeans = KMeans(n_clusters=4, random_state=42)\n",
    "clusters = kmeans.fit_predict(df_choose)\n",
    "df_choose['cluster'] = clusters"
   ]
  },
  {
   "cell_type": "code",
   "execution_count": 72,
   "id": "4c714bb8-3b57-464b-87cb-11318fdcb291",
   "metadata": {},
   "outputs": [
    {
     "data": {
      "text/html": [
       "<div>\n",
       "<style scoped>\n",
       "    .dataframe tbody tr th:only-of-type {\n",
       "        vertical-align: middle;\n",
       "    }\n",
       "\n",
       "    .dataframe tbody tr th {\n",
       "        vertical-align: top;\n",
       "    }\n",
       "\n",
       "    .dataframe thead th {\n",
       "        text-align: right;\n",
       "    }\n",
       "</style>\n",
       "<table border=\"1\" class=\"dataframe\">\n",
       "  <thead>\n",
       "    <tr style=\"text-align: right;\">\n",
       "      <th></th>\n",
       "      <th>gdp</th>\n",
       "      <th>iy</th>\n",
       "      <th>cpi</th>\n",
       "      <th>bond_rate</th>\n",
       "      <th>pop</th>\n",
       "      <th>unemp</th>\n",
       "      <th>imports</th>\n",
       "      <th>exports</th>\n",
       "      <th>eq_dp</th>\n",
       "      <th>cluster</th>\n",
       "    </tr>\n",
       "  </thead>\n",
       "  <tbody>\n",
       "    <tr>\n",
       "      <th>1936</th>\n",
       "      <td>-0.149730</td>\n",
       "      <td>1.361564</td>\n",
       "      <td>1.165215</td>\n",
       "      <td>-0.303855</td>\n",
       "      <td>2.062409</td>\n",
       "      <td>-0.243130</td>\n",
       "      <td>-0.160113</td>\n",
       "      <td>-0.156410</td>\n",
       "      <td>-1.141734</td>\n",
       "      <td>1</td>\n",
       "    </tr>\n",
       "    <tr>\n",
       "      <th>255</th>\n",
       "      <td>-0.018483</td>\n",
       "      <td>0.649827</td>\n",
       "      <td>0.011833</td>\n",
       "      <td>1.137816</td>\n",
       "      <td>-0.461292</td>\n",
       "      <td>-0.382399</td>\n",
       "      <td>0.079530</td>\n",
       "      <td>0.070237</td>\n",
       "      <td>0.876690</td>\n",
       "      <td>3</td>\n",
       "    </tr>\n",
       "    <tr>\n",
       "      <th>565</th>\n",
       "      <td>-0.136220</td>\n",
       "      <td>1.458885</td>\n",
       "      <td>0.696953</td>\n",
       "      <td>0.020817</td>\n",
       "      <td>-0.534005</td>\n",
       "      <td>-0.597075</td>\n",
       "      <td>-0.148119</td>\n",
       "      <td>-0.145560</td>\n",
       "      <td>-0.051143</td>\n",
       "      <td>3</td>\n",
       "    </tr>\n",
       "    <tr>\n",
       "      <th>1575</th>\n",
       "      <td>-0.149752</td>\n",
       "      <td>-1.991951</td>\n",
       "      <td>-0.676749</td>\n",
       "      <td>-1.382146</td>\n",
       "      <td>-0.610468</td>\n",
       "      <td>-0.925916</td>\n",
       "      <td>-0.160118</td>\n",
       "      <td>-0.156418</td>\n",
       "      <td>-1.455822</td>\n",
       "      <td>0</td>\n",
       "    </tr>\n",
       "    <tr>\n",
       "      <th>1997</th>\n",
       "      <td>-0.149659</td>\n",
       "      <td>-0.329928</td>\n",
       "      <td>-0.617568</td>\n",
       "      <td>-0.476353</td>\n",
       "      <td>-0.555866</td>\n",
       "      <td>-0.095044</td>\n",
       "      <td>-0.159905</td>\n",
       "      <td>-0.156204</td>\n",
       "      <td>0.659645</td>\n",
       "      <td>3</td>\n",
       "    </tr>\n",
       "    <tr>\n",
       "      <th>1437</th>\n",
       "      <td>-0.149761</td>\n",
       "      <td>-0.917599</td>\n",
       "      <td>-0.598098</td>\n",
       "      <td>-0.450225</td>\n",
       "      <td>0.419745</td>\n",
       "      <td>-0.619839</td>\n",
       "      <td>-0.160118</td>\n",
       "      <td>-0.156418</td>\n",
       "      <td>0.459862</td>\n",
       "      <td>3</td>\n",
       "    </tr>\n",
       "    <tr>\n",
       "      <th>516</th>\n",
       "      <td>-0.149208</td>\n",
       "      <td>-1.991951</td>\n",
       "      <td>-0.434676</td>\n",
       "      <td>-0.215067</td>\n",
       "      <td>-0.585390</td>\n",
       "      <td>2.123600</td>\n",
       "      <td>-0.159789</td>\n",
       "      <td>-0.156242</td>\n",
       "      <td>-1.455822</td>\n",
       "      <td>0</td>\n",
       "    </tr>\n",
       "    <tr>\n",
       "      <th>2067</th>\n",
       "      <td>-0.136549</td>\n",
       "      <td>0.517691</td>\n",
       "      <td>0.212717</td>\n",
       "      <td>1.471682</td>\n",
       "      <td>-0.379103</td>\n",
       "      <td>-0.058390</td>\n",
       "      <td>-0.138566</td>\n",
       "      <td>-0.135743</td>\n",
       "      <td>1.985816</td>\n",
       "      <td>3</td>\n",
       "    </tr>\n",
       "    <tr>\n",
       "      <th>2040</th>\n",
       "      <td>-0.149002</td>\n",
       "      <td>-1.991951</td>\n",
       "      <td>-0.447512</td>\n",
       "      <td>-0.493772</td>\n",
       "      <td>-0.464753</td>\n",
       "      <td>-0.469093</td>\n",
       "      <td>-0.159275</td>\n",
       "      <td>-0.156048</td>\n",
       "      <td>-1.455822</td>\n",
       "      <td>0</td>\n",
       "    </tr>\n",
       "    <tr>\n",
       "      <th>2179</th>\n",
       "      <td>-0.149488</td>\n",
       "      <td>0.509793</td>\n",
       "      <td>-0.643311</td>\n",
       "      <td>-0.093133</td>\n",
       "      <td>-0.612396</td>\n",
       "      <td>1.404976</td>\n",
       "      <td>-0.159948</td>\n",
       "      <td>-0.156293</td>\n",
       "      <td>1.206359</td>\n",
       "      <td>3</td>\n",
       "    </tr>\n",
       "    <tr>\n",
       "      <th>797</th>\n",
       "      <td>-0.149761</td>\n",
       "      <td>0.264217</td>\n",
       "      <td>-0.678818</td>\n",
       "      <td>-0.242647</td>\n",
       "      <td>-0.611038</td>\n",
       "      <td>-0.599640</td>\n",
       "      <td>-0.160118</td>\n",
       "      <td>-0.156418</td>\n",
       "      <td>1.096216</td>\n",
       "      <td>3</td>\n",
       "    </tr>\n",
       "    <tr>\n",
       "      <th>1500</th>\n",
       "      <td>-0.149657</td>\n",
       "      <td>-0.086014</td>\n",
       "      <td>2.227007</td>\n",
       "      <td>-0.269589</td>\n",
       "      <td>0.683839</td>\n",
       "      <td>0.966509</td>\n",
       "      <td>-0.160036</td>\n",
       "      <td>-0.156357</td>\n",
       "      <td>0.103456</td>\n",
       "      <td>1</td>\n",
       "    </tr>\n",
       "    <tr>\n",
       "      <th>1475</th>\n",
       "      <td>-0.149734</td>\n",
       "      <td>0.553767</td>\n",
       "      <td>0.738835</td>\n",
       "      <td>1.365232</td>\n",
       "      <td>0.568291</td>\n",
       "      <td>1.784158</td>\n",
       "      <td>-0.160101</td>\n",
       "      <td>-0.156403</td>\n",
       "      <td>0.326210</td>\n",
       "      <td>1</td>\n",
       "    </tr>\n",
       "    <tr>\n",
       "      <th>2295</th>\n",
       "      <td>-0.149698</td>\n",
       "      <td>-1.991951</td>\n",
       "      <td>-0.724921</td>\n",
       "      <td>2.182962</td>\n",
       "      <td>-0.557312</td>\n",
       "      <td>-0.925916</td>\n",
       "      <td>-0.160106</td>\n",
       "      <td>-0.156412</td>\n",
       "      <td>0.945963</td>\n",
       "      <td>3</td>\n",
       "    </tr>\n",
       "    <tr>\n",
       "      <th>881</th>\n",
       "      <td>-0.149693</td>\n",
       "      <td>0.204671</td>\n",
       "      <td>1.261556</td>\n",
       "      <td>0.706451</td>\n",
       "      <td>-0.560420</td>\n",
       "      <td>0.685413</td>\n",
       "      <td>-0.160064</td>\n",
       "      <td>-0.156357</td>\n",
       "      <td>-0.787560</td>\n",
       "      <td>1</td>\n",
       "    </tr>\n",
       "    <tr>\n",
       "      <th>478</th>\n",
       "      <td>-0.149606</td>\n",
       "      <td>-0.224646</td>\n",
       "      <td>-0.548569</td>\n",
       "      <td>-0.528611</td>\n",
       "      <td>-0.607468</td>\n",
       "      <td>-0.925916</td>\n",
       "      <td>-0.159929</td>\n",
       "      <td>-0.156282</td>\n",
       "      <td>-1.455822</td>\n",
       "      <td>0</td>\n",
       "    </tr>\n",
       "    <tr>\n",
       "      <th>1482</th>\n",
       "      <td>-0.149713</td>\n",
       "      <td>0.403586</td>\n",
       "      <td>1.303389</td>\n",
       "      <td>0.849675</td>\n",
       "      <td>0.595245</td>\n",
       "      <td>1.510502</td>\n",
       "      <td>-0.160090</td>\n",
       "      <td>-0.156393</td>\n",
       "      <td>0.058905</td>\n",
       "      <td>1</td>\n",
       "    </tr>\n",
       "    <tr>\n",
       "      <th>1453</th>\n",
       "      <td>-0.149759</td>\n",
       "      <td>0.338140</td>\n",
       "      <td>-0.488897</td>\n",
       "      <td>0.377182</td>\n",
       "      <td>0.506850</td>\n",
       "      <td>-0.525662</td>\n",
       "      <td>-0.160117</td>\n",
       "      <td>-0.156417</td>\n",
       "      <td>0.816268</td>\n",
       "      <td>3</td>\n",
       "    </tr>\n",
       "    <tr>\n",
       "      <th>1513</th>\n",
       "      <td>-0.149762</td>\n",
       "      <td>-1.991951</td>\n",
       "      <td>-0.725879</td>\n",
       "      <td>-1.382146</td>\n",
       "      <td>-0.675671</td>\n",
       "      <td>-0.925916</td>\n",
       "      <td>-0.160118</td>\n",
       "      <td>-0.156418</td>\n",
       "      <td>-1.455822</td>\n",
       "      <td>0</td>\n",
       "    </tr>\n",
       "    <tr>\n",
       "      <th>299</th>\n",
       "      <td>1.016250</td>\n",
       "      <td>1.007395</td>\n",
       "      <td>2.345423</td>\n",
       "      <td>-1.176830</td>\n",
       "      <td>-0.423451</td>\n",
       "      <td>0.474550</td>\n",
       "      <td>3.047936</td>\n",
       "      <td>3.141115</td>\n",
       "      <td>0.077808</td>\n",
       "      <td>1</td>\n",
       "    </tr>\n",
       "    <tr>\n",
       "      <th>2621</th>\n",
       "      <td>-0.149756</td>\n",
       "      <td>-0.208814</td>\n",
       "      <td>-0.481386</td>\n",
       "      <td>-0.256679</td>\n",
       "      <td>1.833400</td>\n",
       "      <td>0.251302</td>\n",
       "      <td>-0.160118</td>\n",
       "      <td>-0.156417</td>\n",
       "      <td>0.955884</td>\n",
       "      <td>3</td>\n",
       "    </tr>\n",
       "    <tr>\n",
       "      <th>956</th>\n",
       "      <td>-0.147916</td>\n",
       "      <td>-1.022827</td>\n",
       "      <td>-0.712151</td>\n",
       "      <td>-0.093133</td>\n",
       "      <td>-0.207814</td>\n",
       "      <td>-0.925916</td>\n",
       "      <td>-0.159309</td>\n",
       "      <td>-0.155767</td>\n",
       "      <td>0.846367</td>\n",
       "      <td>3</td>\n",
       "    </tr>\n",
       "    <tr>\n",
       "      <th>987</th>\n",
       "      <td>-0.135418</td>\n",
       "      <td>-0.652366</td>\n",
       "      <td>-0.662361</td>\n",
       "      <td>-0.002143</td>\n",
       "      <td>-0.059000</td>\n",
       "      <td>-0.625999</td>\n",
       "      <td>-0.156552</td>\n",
       "      <td>-0.153523</td>\n",
       "      <td>0.666176</td>\n",
       "      <td>3</td>\n",
       "    </tr>\n",
       "    <tr>\n",
       "      <th>2337</th>\n",
       "      <td>-0.147620</td>\n",
       "      <td>-1.991951</td>\n",
       "      <td>-0.696844</td>\n",
       "      <td>-0.534417</td>\n",
       "      <td>-0.504264</td>\n",
       "      <td>-0.925916</td>\n",
       "      <td>-0.159602</td>\n",
       "      <td>-0.155606</td>\n",
       "      <td>-0.629310</td>\n",
       "      <td>0</td>\n",
       "    </tr>\n",
       "    <tr>\n",
       "      <th>6</th>\n",
       "      <td>-0.149742</td>\n",
       "      <td>-0.007136</td>\n",
       "      <td>-0.676585</td>\n",
       "      <td>-0.056580</td>\n",
       "      <td>-0.633422</td>\n",
       "      <td>-0.925916</td>\n",
       "      <td>-0.160108</td>\n",
       "      <td>-0.156408</td>\n",
       "      <td>1.227142</td>\n",
       "      <td>3</td>\n",
       "    </tr>\n",
       "    <tr>\n",
       "      <th>829</th>\n",
       "      <td>-0.149761</td>\n",
       "      <td>-0.332466</td>\n",
       "      <td>-0.587868</td>\n",
       "      <td>-0.228131</td>\n",
       "      <td>-0.588106</td>\n",
       "      <td>-0.367492</td>\n",
       "      <td>-0.160118</td>\n",
       "      <td>-0.156418</td>\n",
       "      <td>0.032174</td>\n",
       "      <td>3</td>\n",
       "    </tr>\n",
       "    <tr>\n",
       "      <th>702</th>\n",
       "      <td>-0.149727</td>\n",
       "      <td>0.972763</td>\n",
       "      <td>0.063107</td>\n",
       "      <td>0.501777</td>\n",
       "      <td>0.627509</td>\n",
       "      <td>-0.643384</td>\n",
       "      <td>-0.160102</td>\n",
       "      <td>-0.156398</td>\n",
       "      <td>-0.119298</td>\n",
       "      <td>3</td>\n",
       "    </tr>\n",
       "    <tr>\n",
       "      <th>1050</th>\n",
       "      <td>10.632849</td>\n",
       "      <td>0.110143</td>\n",
       "      <td>2.912426</td>\n",
       "      <td>-0.591513</td>\n",
       "      <td>0.341798</td>\n",
       "      <td>4.828633</td>\n",
       "      <td>10.613179</td>\n",
       "      <td>11.693997</td>\n",
       "      <td>1.170522</td>\n",
       "      <td>2</td>\n",
       "    </tr>\n",
       "    <tr>\n",
       "      <th>2130</th>\n",
       "      <td>-0.149720</td>\n",
       "      <td>-0.361196</td>\n",
       "      <td>-0.683923</td>\n",
       "      <td>-0.258615</td>\n",
       "      <td>-0.632786</td>\n",
       "      <td>-0.925916</td>\n",
       "      <td>-0.160090</td>\n",
       "      <td>-0.156397</td>\n",
       "      <td>0.289519</td>\n",
       "      <td>3</td>\n",
       "    </tr>\n",
       "    <tr>\n",
       "      <th>2282</th>\n",
       "      <td>-0.149714</td>\n",
       "      <td>-1.991951</td>\n",
       "      <td>-0.725142</td>\n",
       "      <td>0.136218</td>\n",
       "      <td>-0.568372</td>\n",
       "      <td>-0.925916</td>\n",
       "      <td>-0.160111</td>\n",
       "      <td>-0.156414</td>\n",
       "      <td>0.502420</td>\n",
       "      <td>3</td>\n",
       "    </tr>\n",
       "  </tbody>\n",
       "</table>\n",
       "</div>"
      ],
      "text/plain": [
       "            gdp        iy       cpi  bond_rate       pop     unemp    imports  \\\n",
       "1936  -0.149730  1.361564  1.165215  -0.303855  2.062409 -0.243130  -0.160113   \n",
       "255   -0.018483  0.649827  0.011833   1.137816 -0.461292 -0.382399   0.079530   \n",
       "565   -0.136220  1.458885  0.696953   0.020817 -0.534005 -0.597075  -0.148119   \n",
       "1575  -0.149752 -1.991951 -0.676749  -1.382146 -0.610468 -0.925916  -0.160118   \n",
       "1997  -0.149659 -0.329928 -0.617568  -0.476353 -0.555866 -0.095044  -0.159905   \n",
       "1437  -0.149761 -0.917599 -0.598098  -0.450225  0.419745 -0.619839  -0.160118   \n",
       "516   -0.149208 -1.991951 -0.434676  -0.215067 -0.585390  2.123600  -0.159789   \n",
       "2067  -0.136549  0.517691  0.212717   1.471682 -0.379103 -0.058390  -0.138566   \n",
       "2040  -0.149002 -1.991951 -0.447512  -0.493772 -0.464753 -0.469093  -0.159275   \n",
       "2179  -0.149488  0.509793 -0.643311  -0.093133 -0.612396  1.404976  -0.159948   \n",
       "797   -0.149761  0.264217 -0.678818  -0.242647 -0.611038 -0.599640  -0.160118   \n",
       "1500  -0.149657 -0.086014  2.227007  -0.269589  0.683839  0.966509  -0.160036   \n",
       "1475  -0.149734  0.553767  0.738835   1.365232  0.568291  1.784158  -0.160101   \n",
       "2295  -0.149698 -1.991951 -0.724921   2.182962 -0.557312 -0.925916  -0.160106   \n",
       "881   -0.149693  0.204671  1.261556   0.706451 -0.560420  0.685413  -0.160064   \n",
       "478   -0.149606 -0.224646 -0.548569  -0.528611 -0.607468 -0.925916  -0.159929   \n",
       "1482  -0.149713  0.403586  1.303389   0.849675  0.595245  1.510502  -0.160090   \n",
       "1453  -0.149759  0.338140 -0.488897   0.377182  0.506850 -0.525662  -0.160117   \n",
       "1513  -0.149762 -1.991951 -0.725879  -1.382146 -0.675671 -0.925916  -0.160118   \n",
       "299    1.016250  1.007395  2.345423  -1.176830 -0.423451  0.474550   3.047936   \n",
       "2621  -0.149756 -0.208814 -0.481386  -0.256679  1.833400  0.251302  -0.160118   \n",
       "956   -0.147916 -1.022827 -0.712151  -0.093133 -0.207814 -0.925916  -0.159309   \n",
       "987   -0.135418 -0.652366 -0.662361  -0.002143 -0.059000 -0.625999  -0.156552   \n",
       "2337  -0.147620 -1.991951 -0.696844  -0.534417 -0.504264 -0.925916  -0.159602   \n",
       "6     -0.149742 -0.007136 -0.676585  -0.056580 -0.633422 -0.925916  -0.160108   \n",
       "829   -0.149761 -0.332466 -0.587868  -0.228131 -0.588106 -0.367492  -0.160118   \n",
       "702   -0.149727  0.972763  0.063107   0.501777  0.627509 -0.643384  -0.160102   \n",
       "1050  10.632849  0.110143  2.912426  -0.591513  0.341798  4.828633  10.613179   \n",
       "2130  -0.149720 -0.361196 -0.683923  -0.258615 -0.632786 -0.925916  -0.160090   \n",
       "2282  -0.149714 -1.991951 -0.725142   0.136218 -0.568372 -0.925916  -0.160111   \n",
       "\n",
       "        exports     eq_dp  cluster  \n",
       "1936  -0.156410 -1.141734        1  \n",
       "255    0.070237  0.876690        3  \n",
       "565   -0.145560 -0.051143        3  \n",
       "1575  -0.156418 -1.455822        0  \n",
       "1997  -0.156204  0.659645        3  \n",
       "1437  -0.156418  0.459862        3  \n",
       "516   -0.156242 -1.455822        0  \n",
       "2067  -0.135743  1.985816        3  \n",
       "2040  -0.156048 -1.455822        0  \n",
       "2179  -0.156293  1.206359        3  \n",
       "797   -0.156418  1.096216        3  \n",
       "1500  -0.156357  0.103456        1  \n",
       "1475  -0.156403  0.326210        1  \n",
       "2295  -0.156412  0.945963        3  \n",
       "881   -0.156357 -0.787560        1  \n",
       "478   -0.156282 -1.455822        0  \n",
       "1482  -0.156393  0.058905        1  \n",
       "1453  -0.156417  0.816268        3  \n",
       "1513  -0.156418 -1.455822        0  \n",
       "299    3.141115  0.077808        1  \n",
       "2621  -0.156417  0.955884        3  \n",
       "956   -0.155767  0.846367        3  \n",
       "987   -0.153523  0.666176        3  \n",
       "2337  -0.155606 -0.629310        0  \n",
       "6     -0.156408  1.227142        3  \n",
       "829   -0.156418  0.032174        3  \n",
       "702   -0.156398 -0.119298        3  \n",
       "1050  11.693997  1.170522        2  \n",
       "2130  -0.156397  0.289519        3  \n",
       "2282  -0.156414  0.502420        3  "
      ]
     },
     "execution_count": 72,
     "metadata": {},
     "output_type": "execute_result"
    }
   ],
   "source": [
    "df_choose.sample(n=30, random_state=1) #show the random dataset to find the similarity"
   ]
  }
 ],
 "metadata": {
  "kernelspec": {
   "display_name": "Python 3 (ipykernel)",
   "language": "python",
   "name": "python3"
  },
  "language_info": {
   "codemirror_mode": {
    "name": "ipython",
    "version": 3
   },
   "file_extension": ".py",
   "mimetype": "text/x-python",
   "name": "python",
   "nbconvert_exporter": "python",
   "pygments_lexer": "ipython3",
   "version": "3.11.5"
  }
 },
 "nbformat": 4,
 "nbformat_minor": 5
}
